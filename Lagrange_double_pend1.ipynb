{
 "cells": [
  {
   "cell_type": "code",
   "execution_count": 1,
   "id": "f074a967",
   "metadata": {},
   "outputs": [],
   "source": [
    "from sympy.physics.mechanics import *\n",
    "from sympy import trigsimp,symbols\n",
    "from sympy.physics.vector import init_vprinting\n",
    "from sympy import sin,cos\n",
    "init_vprinting()"
   ]
  },
  {
   "cell_type": "code",
   "execution_count": 2,
   "id": "50957b76",
   "metadata": {},
   "outputs": [],
   "source": [
    "q1, q2 = dynamicsymbols('q1 q2')\n",
    "u1, u2 = dynamicsymbols('q1 q2', 1)\n",
    "m1,m2,L1,L2,g = symbols('m1 m2 L1 L2,g')"
   ]
  },
  {
   "cell_type": "code",
   "execution_count": 3,
   "id": "245dd818",
   "metadata": {},
   "outputs": [],
   "source": [
    "N = ReferenceFrame('N')     #Inertial reference frame\n",
    "A = N.orientnew('A', 'Axis', [q1, N.z]) # Frame rotating with first pendulum\n",
    "B = N.orientnew('B', 'Axis', [q2, N.z]) # Frame rotating with second pendulum"
   ]
  },
  {
   "cell_type": "code",
   "execution_count": 4,
   "id": "ba296c00",
   "metadata": {},
   "outputs": [],
   "source": [
    "omega_1 = u1\n",
    "omega_2 = u2"
   ]
  },
  {
   "cell_type": "code",
   "execution_count": 5,
   "id": "a6637933",
   "metadata": {},
   "outputs": [],
   "source": [
    "A.set_ang_vel(N, omega_1 * N.z) \n",
    "B.set_ang_vel(N, omega_2 * N.z)"
   ]
  },
  {
   "cell_type": "code",
   "execution_count": 6,
   "id": "f7561a72",
   "metadata": {},
   "outputs": [],
   "source": [
    "O = Point('O') #Origin in Inertial Reference Frame\n",
    "P1 = O.locatenew('P', L1 * A.x)  #Point of contact of first & 2nd pendulum\n",
    "P2 = P1.locatenew('P2', L2 * B.x) #2nd pendulum"
   ]
  },
  {
   "cell_type": "code",
   "execution_count": 7,
   "id": "6da25574",
   "metadata": {},
   "outputs": [],
   "source": [
    "O.set_vel(N, 0)\n",
    "P1.v2pt_theory(O,N,A)\n",
    "P2.v2pt_theory(P2,N,B)\n",
    "v1=P1.vel(N)\n",
    "v2=P2.vel(N)"
   ]
  },
  {
   "cell_type": "code",
   "execution_count": 8,
   "id": "27fa84e0",
   "metadata": {},
   "outputs": [
    {
     "data": {
      "image/png": "[encoded data removed]",
      "text/latex": [
       "$\\displaystyle L_{1} \\dot{q}_{1}\\mathbf{\\hat{a}_y}$"
      ],
      "text/plain": [
       "L₁⋅q₁̇ a_y"
      ]
     },
     "execution_count": 8,
     "metadata": {},
     "output_type": "execute_result"
    }
   ],
   "source": [
    "v1"
   ]
  },
  {
   "cell_type": "code",
   "execution_count": 9,
   "id": "c1d66802",
   "metadata": {},
   "outputs": [
    {
     "data": {
      "image/png": "[encoded data removed]",
      "text/latex": [
       "$\\displaystyle L_{2} \\dot{q}_{2}\\mathbf{\\hat{b}_y} + L_{1} \\dot{q}_{1}\\mathbf{\\hat{a}_y}$"
      ],
      "text/plain": [
       "L₂⋅q₂̇ b_y + L₁⋅q₁̇ a_y"
      ]
     },
     "execution_count": 9,
     "metadata": {},
     "output_type": "execute_result"
    }
   ],
   "source": [
    "v2"
   ]
  },
  {
   "cell_type": "code",
   "execution_count": 10,
   "id": "5258d195",
   "metadata": {},
   "outputs": [
    {
     "data": {
      "image/png": "[encoded data removed]",
      "text/latex": [
       "$\\displaystyle L_{1} g m_{1} \\cdot \\left(1 - \\cos{\\left(q_{1} \\right)}\\right) + g m_{2} \\left(L_{1} \\cdot \\left(1 - \\cos{\\left(q_{1} \\right)}\\right) + L_{2} \\cdot \\left(1 - \\cos{\\left(q_{2} \\right)}\\right)\\right)$"
      ],
      "text/plain": [
       "L₁⋅g⋅m₁⋅(1 - cos(q₁)) + g⋅m₂⋅(L₁⋅(1 - cos(q₁)) + L₂⋅(1 - cos(q₂)))"
      ]
     },
     "execution_count": 10,
     "metadata": {},
     "output_type": "execute_result"
    }
   ],
   "source": [
    "V1=m1*g*L1*(1-cos(q1))\n",
    "V2=m2*g*(L1*(1-cos(q1))+L2*(1-cos(q2)))\n",
    "V = V1 + V2\n",
    "V"
   ]
  },
  {
   "cell_type": "code",
   "execution_count": 11,
   "id": "a8b04c01",
   "metadata": {},
   "outputs": [
    {
     "data": {
      "image/png": "[encoded data removed]",
      "text/latex": [
       "$\\displaystyle 0.5 L_{1}^{2} m_{1} \\dot{q}_{1}^{2} + 0.5 m_{2} \\left(L_{1}^{2} \\dot{q}_{1}^{2} + 2 L_{1} L_{2} \\left(\\sin{\\left(q_{1} \\right)} \\sin{\\left(q_{2} \\right)} + \\cos{\\left(q_{1} \\right)} \\cos{\\left(q_{2} \\right)}\\right) \\dot{q}_{1} \\dot{q}_{2} + L_{2}^{2} \\dot{q}_{2}^{2}\\right)$"
      ],
      "text/plain": [
       "      2      2          ⎛  2   2                                              \n",
       "0.5⋅L₁ ⋅m₁⋅q₁̇  + 0.5⋅m₂⋅⎝L₁ ⋅q₁̇  + 2⋅L₁⋅L₂⋅(sin(q₁)⋅sin(q₂) + cos(q₁)⋅cos(q₂\n",
       "\n",
       "           2   2⎞\n",
       "))⋅q₁̇⋅q₂̇ + L₂ ⋅q₂̇ ⎠"
      ]
     },
     "execution_count": 11,
     "metadata": {},
     "output_type": "execute_result"
    }
   ],
   "source": [
    "T = (1/2)*m1*dot(v1,v1) + (1/2)*m2*dot(v2,v2)\n",
    "T"
   ]
  },
  {
   "cell_type": "code",
   "execution_count": 12,
   "id": "d4530cf8",
   "metadata": {},
   "outputs": [],
   "source": [
    "L=T-V\n",
    "LM = LagrangesMethod(L, [q1, q2])"
   ]
  },
  {
   "cell_type": "code",
   "execution_count": 13,
   "id": "a237ba96",
   "metadata": {},
   "outputs": [],
   "source": [
    "eqns = LM.form_lagranges_equations()"
   ]
  },
  {
   "cell_type": "code",
   "execution_count": 14,
   "id": "29b66a5f",
   "metadata": {},
   "outputs": [
    {
     "data": {
      "text/latex": [
       "$\\displaystyle \\left[\\begin{matrix}1.0 L_{1}^{2} m_{1} + 1.0 L_{1}^{2} m_{2} & 1.0 L_{1} L_{2} m_{2} \\cos{\\left(q_{1} - q_{2} \\right)}\\\\1.0 L_{1} L_{2} m_{2} \\cos{\\left(q_{1} - q_{2} \\right)} & 1.0 L_{2}^{2} m_{2}\\end{matrix}\\right]$"
      ],
      "text/plain": [
       "⎡       2            2                               ⎤\n",
       "⎢ 1.0⋅L₁ ⋅m₁ + 1.0⋅L₁ ⋅m₂   1.0⋅L₁⋅L₂⋅m₂⋅cos(q₁ - q₂)⎥\n",
       "⎢                                                    ⎥\n",
       "⎢                                        2           ⎥\n",
       "⎣1.0⋅L₁⋅L₂⋅m₂⋅cos(q₁ - q₂)         1.0⋅L₂ ⋅m₂        ⎦"
      ]
     },
     "execution_count": 14,
     "metadata": {},
     "output_type": "execute_result"
    }
   ],
   "source": [
    "trigsimp(LM.mass_matrix)"
   ]
  },
  {
   "cell_type": "code",
   "execution_count": 15,
   "id": "2d67547f",
   "metadata": {},
   "outputs": [
    {
     "data": {
      "text/latex": [
       "$\\displaystyle \\left[\\begin{matrix}- 1.0 L_{1} \\left(L_{2} m_{2} \\sin{\\left(q_{1} - q_{2} \\right)} \\dot{q}_{2}^{2} + g m_{1} \\sin{\\left(q_{1} \\right)} + g m_{2} \\sin{\\left(q_{1} \\right)}\\right)\\\\1.0 L_{2} m_{2} \\left(L_{1} \\sin{\\left(q_{1} - q_{2} \\right)} \\dot{q}_{1}^{2} - g \\sin{\\left(q_{2} \\right)}\\right)\\end{matrix}\\right]$"
      ],
      "text/plain": [
       "⎡        ⎛                     2                              ⎞⎤\n",
       "⎢-1.0⋅L₁⋅⎝L₂⋅m₂⋅sin(q₁ - q₂)⋅q₂̇  + g⋅m₁⋅sin(q₁) + g⋅m₂⋅sin(q₁)⎠⎥\n",
       "⎢                                                              ⎥\n",
       "⎢                   ⎛                  2            ⎞          ⎥\n",
       "⎣         1.0⋅L₂⋅m₂⋅⎝L₁⋅sin(q₁ - q₂)⋅q₁̇  - g⋅sin(q₂)⎠          ⎦"
      ]
     },
     "execution_count": 15,
     "metadata": {},
     "output_type": "execute_result"
    }
   ],
   "source": [
    "trigsimp(LM.forcing)"
   ]
  },
  {
   "cell_type": "code",
   "execution_count": null,
   "id": "38be893b",
   "metadata": {},
   "outputs": [],
   "source": []
  }
 ],
 "metadata": {
  "kernelspec": {
   "display_name": "Python 3 (ipykernel)",
   "language": "python",
   "name": "python3"
  },
  "language_info": {
   "codemirror_mode": {
    "name": "ipython",
    "version": 3
   },
   "file_extension": ".py",
   "mimetype": "text/x-python",
   "name": "python",
   "nbconvert_exporter": "python",
   "pygments_lexer": "ipython3",
   "version": "3.9.13"
  }
 },
 "nbformat": 4,
 "nbformat_minor": 5
}
