{
 "cells": [
  {
   "cell_type": "markdown",
   "id": "1f2e5a22",
   "metadata": {},
   "source": [
    "# Module imports"
   ]
  },
  {
   "cell_type": "code",
   "execution_count": 3,
   "id": "cd3c1cc6",
   "metadata": {},
   "outputs": [],
   "source": [
    "from sympy.physics.mechanics import *\n",
    "from sympy import trigsimp,symbols,cos,sin, lambdify\n",
    "from math import pi,radians\n",
    "import numpy as np\n",
    "from scipy import linalg, integrate\n",
    "init_vprinting()"
   ]
  },
  {
   "cell_type": "markdown",
   "id": "b8c514ca",
   "metadata": {},
   "source": [
    "# Symbolic variables"
   ]
  },
  {
   "cell_type": "code",
   "execution_count": 4,
   "id": "fd2f0438",
   "metadata": {},
   "outputs": [],
   "source": [
    "q0,q1,q2 = dynamicsymbols('q0 q1,q2')\n",
    "#q0d,q1d,q2d = dynamicsymbols('q0 q1 q2',1)\n",
    "u0,u1,u2 = dynamicsymbols('q0,q1,q2',1)"
   ]
  },
  {
   "cell_type": "code",
   "execution_count": 5,
   "id": "ca9917fc",
   "metadata": {},
   "outputs": [],
   "source": [
    "m0,m,I1,I2,g=symbols('m0,m,I1,I2,g')\n",
    "L,R,S=symbols('L,R,S')"
   ]
  },
  {
   "cell_type": "markdown",
   "id": "464fc002",
   "metadata": {},
   "source": [
    "# Reference Frames"
   ]
  },
  {
   "cell_type": "code",
   "execution_count": 6,
   "id": "dd2a640e",
   "metadata": {},
   "outputs": [],
   "source": [
    "N = ReferenceFrame('N')\n",
    "A = N.orientnew('A','Axis',[0,N.z])\n",
    "O=Point('O')\n",
    "B1=N.orientnew('B1','Axis',[-q1, N.z])\n",
    "P1 = O.locatenew('P1',L*B1.y)\n",
    "G1 = O.locatenew('G1',(L/2)*B1.y)\n",
    "B2=B1.orientnew('B2','Axis',[-q2, B1.z])\n",
    "P2 = P1.locatenew('P2',L*B2.y)\n",
    "G2 = P1.locatenew('G2',(L/2)*B2.y)\n",
    "P = O.locatenew('P',q0*N.x)"
   ]
  },
  {
   "cell_type": "markdown",
   "id": "7f917dc8",
   "metadata": {},
   "source": [
    "# Velocities"
   ]
  },
  {
   "cell_type": "code",
   "execution_count": 7,
   "id": "55deabad",
   "metadata": {},
   "outputs": [
    {
     "data": {
      "image/png": "[encoded data removed]",
      "text/latex": [
       "$\\displaystyle L \\dot{q}_{1}\\mathbf{\\hat{b1}_x} -  \\frac{L \\left(- \\dot{q}_{1} - \\dot{q}_{2}\\right)}{2}\\mathbf{\\hat{b2}_x}$"
      ],
      "text/plain": [
       "            -L⋅(-q₁̇ - q₂̇)\n",
       "L⋅q₁̇ b1_x + ────────────── b2_x\n",
       "                  2"
      ]
     },
     "execution_count": 7,
     "metadata": {},
     "output_type": "execute_result"
    }
   ],
   "source": [
    "P.set_vel(N,u0*N.x)\n",
    "A.set_ang_vel(N,0)\n",
    "B1.set_ang_vel(N,-u1*N.z)\n",
    "B2.set_ang_vel(N,-(u1+u2)*N.z)\n",
    "O.set_vel(N,0)\n",
    "P1.v2pt_theory(O,N,B1)\n",
    "G1.v2pt_theory(O,N,B1)\n",
    "P2.v2pt_theory(P1,N,B2)\n",
    "G2.v2pt_theory(P1,N,B2)"
   ]
  },
  {
   "cell_type": "markdown",
   "id": "c4275937",
   "metadata": {},
   "source": [
    "# Kinetic and potential energies"
   ]
  },
  {
   "cell_type": "code",
   "execution_count": 8,
   "id": "8f808a31",
   "metadata": {},
   "outputs": [],
   "source": [
    "Tt=(1/2)*m0*dot(P.vel(N),P.vel(N)) + (1/2)*m*dot(G1.vel(N),G1.vel(N)) +(1/2)*m*dot(G2.vel(N),G2.vel(N))\n",
    "Tr=(1/2)*(m*L**2/12)*dot(B1.ang_vel_in(N),B1.ang_vel_in(N)) + (1/2)*(m*L**2/12)*dot(B2.ang_vel_in(N),B2.ang_vel_in(N))\n",
    "T=Tt+Tr\n",
    "#V1=m*g*dot(G1.pos_from(O),N.y)\n",
    "#V2=m*g*dot(G2.pos_from(O),N.y)\n",
    "#V=-R*q1+S*q2\n",
    "V=0"
   ]
  },
  {
   "cell_type": "markdown",
   "id": "681dee0d",
   "metadata": {},
   "source": [
    "# Constraint conditions differentiated wrt time"
   ]
  },
  {
   "cell_type": "code",
   "execution_count": 9,
   "id": "cc84a68e",
   "metadata": {},
   "outputs": [],
   "source": [
    "cons1=L*cos(q1)*u1+L*cos(q1+q2)*(u1+u2)-u0\n",
    "cons2=-L*sin(q1)*u1-L*sin(q1+q2)*(u1+u2)"
   ]
  },
  {
   "cell_type": "markdown",
   "id": "37e72ca0",
   "metadata": {},
   "source": [
    "# Lagrange's equations"
   ]
  },
  {
   "cell_type": "code",
   "execution_count": 10,
   "id": "455002fa",
   "metadata": {},
   "outputs": [
    {
     "data": {
      "text/latex": [
       "$\\displaystyle \\left[\\begin{matrix}1.0 m_{0} \\ddot{q}_{0} - lam_{1}\\\\0.0416666666666667 L^{2} m \\left(2 \\ddot{q}_{1} + 2 \\ddot{q}_{2}\\right) + 0.333333333333333 L^{2} m \\ddot{q}_{1} + \\frac{L g m \\left(- \\sin{\\left(q_{1} \\right)} \\cos{\\left(q_{2} \\right)} - \\sin{\\left(q_{2} \\right)} \\cos{\\left(q_{1} \\right)}\\right)}{2} - \\frac{3 L g m \\sin{\\left(q_{1} \\right)}}{2} - R + 0.5 m \\left(L^{2} \\left(- \\dot{q}_{1} - \\dot{q}_{2}\\right) \\sin{\\left(q_{2} \\right)} \\dot{q}_{2} - L^{2} \\left(- \\ddot{q}_{1} - \\ddot{q}_{2}\\right) \\cos{\\left(q_{2} \\right)} + \\frac{L^{2} \\cdot \\left(2 \\ddot{q}_{1} + 2 \\ddot{q}_{2}\\right)}{4} - L^{2} \\sin{\\left(q_{2} \\right)} \\dot{q}_{1} \\dot{q}_{2} + L^{2} \\cos{\\left(q_{2} \\right)} \\ddot{q}_{1} + 2 L^{2} \\ddot{q}_{1}\\right) - \\left(L \\sin{\\left(q_{1} + q_{2} \\right)} + L \\sin{\\left(q_{1} \\right)}\\right) lam_{2} - \\left(- L \\cos{\\left(q_{1} + q_{2} \\right)} - L \\cos{\\left(q_{1} \\right)}\\right) lam_{1}\\\\- 0.5 L^{2} m \\left(- \\dot{q}_{1} - \\dot{q}_{2}\\right) \\sin{\\left(q_{2} \\right)} \\dot{q}_{1} + 0.0416666666666667 L^{2} m \\left(2 \\ddot{q}_{1} + 2 \\ddot{q}_{2}\\right) + \\frac{L g m \\left(- \\sin{\\left(q_{1} \\right)} \\cos{\\left(q_{2} \\right)} - \\sin{\\left(q_{2} \\right)} \\cos{\\left(q_{1} \\right)}\\right)}{2} + L lam_{1} \\cos{\\left(q_{1} + q_{2} \\right)} - L lam_{2} \\sin{\\left(q_{1} + q_{2} \\right)} + S + 0.5 m \\left(\\frac{L^{2} \\cdot \\left(2 \\ddot{q}_{1} + 2 \\ddot{q}_{2}\\right)}{4} - L^{2} \\sin{\\left(q_{2} \\right)} \\dot{q}_{1} \\dot{q}_{2} + L^{2} \\cos{\\left(q_{2} \\right)} \\ddot{q}_{1}\\right)\\end{matrix}\\right]$"
      ],
      "text/plain": [
       "⎡                                                                             \n",
       "⎢                                                                             \n",
       "⎢                                                                             \n",
       "⎢                    2                                      2        L⋅g⋅m⋅(-s\n",
       "⎢0.0416666666666667⋅L ⋅m⋅(2⋅q₁̈ + 2⋅q₂̈) + 0.333333333333333⋅L ⋅m⋅q₁̈ + ──────\n",
       "⎢                                                                             \n",
       "⎢                                                                             \n",
       "⎢                                                                             \n",
       "⎢                                                         2                   \n",
       "⎢                                                  - 0.5⋅L ⋅m⋅(-q₁̇ - q₂̇)⋅sin\n",
       "⎣                                                                             \n",
       "\n",
       "                                                                              \n",
       "                                                                              \n",
       "                                                                ⎛             \n",
       "in(q₁)⋅cos(q₂) - sin(q₂)⋅cos(q₁))   3⋅L⋅g⋅m⋅sin(q₁)             ⎜ 2           \n",
       "──────────────────────────────────── - ─────────────── - R + 0.5⋅m⋅⎜L ⋅(-q₁̇ -\n",
       "           2                               2                    ⎝             \n",
       "                                                                              \n",
       "                                                                              \n",
       "                            2                   L⋅g⋅m⋅(-sin(q₁)⋅cos(q₂) - sin(\n",
       "(q₂)⋅q₁̇ + 0.0416666666666667⋅L ⋅m⋅(2⋅q₁̈ + 2⋅q₂̈) + ─────────────────────────\n",
       "                                                                    2         \n",
       "\n",
       " 1.0⋅m₀⋅q₀̈ - lam₁                                                            \n",
       "                                                                              \n",
       "                                       2                                      \n",
       "               2                      L ⋅(2⋅q₁̈ + 2⋅q₂̈)    2                 \n",
       " q₂̇)⋅sin(q₂)⋅q₂̇ - L ⋅(-q₁̈ - q₂̈)⋅cos(q₂) + ──────────────── - L ⋅sin(q₂)⋅q₁\n",
       "                                             4                                \n",
       "                                                                              \n",
       "                                                                     ⎛ 2      \n",
       "q₂)⋅cos(q₁))                                                         ⎜L ⋅(2⋅q₁\n",
       "───────────────── + L⋅lam₁⋅cos(q₁ + q₂) - L⋅lam₂⋅sin(q₁ + q₂) + S + 0.5⋅m⋅⎜───\n",
       "                                                                     ⎝       4\n",
       "\n",
       "                                                                              \n",
       "                                                                              \n",
       "                     ⎞                                                        \n",
       " 2                 2   ⎟                                                      \n",
       "̇⋅q₂̇ + L ⋅cos(q₂)⋅q₁̈ + 2⋅L ⋅q₁̈⎟ - (L⋅sin(q₁ + q₂) + L⋅sin(q₁))⋅lam₂ - (-L⋅c\n",
       "                     ⎠                                                        \n",
       "                                                                              \n",
       "                                           ⎞                                  \n",
       "̈ + 2⋅q₂̈)    2                  2           ⎟                                \n",
       "───────────── - L ⋅sin(q₂)⋅q₁̇⋅q₂̇ + L ⋅cos(q₂)⋅q₁̈⎟                          \n",
       "                                           ⎠                                  \n",
       "\n",
       "                  ⎤\n",
       "                 ⎥\n",
       "                 ⎥\n",
       "                   ⎥\n",
       "os(q₁ + q₂) - L⋅cos(q₁))⋅lam₁⎥\n",
       "                 ⎥\n",
       "                 ⎥\n",
       "                 ⎥\n",
       "                   ⎥\n",
       "                         ⎥\n",
       "                 ⎦"
      ]
     },
     "execution_count": 10,
     "metadata": {},
     "output_type": "execute_result"
    }
   ],
   "source": [
    "Forces=[(G1,-m*g*N.y),(G2,-m*g*N.y),(B1,-(R+S)*N.z),(B2,S*N.z)]\n",
    "#Forces=[(G1,-m*g*N.y),(G2,-m*g*N.y)]\n",
    "Lagrange=T-V\n",
    "LM = LagrangesMethod(Lagrange, [q0,q1,q2], forcelist = Forces, nonhol_coneqs=[cons1,cons2], frame=N)\n",
    "LM.form_lagranges_equations()"
   ]
  },
  {
   "cell_type": "markdown",
   "id": "ee4a9c5e",
   "metadata": {},
   "source": [
    "# Matrices in state space"
   ]
  },
  {
   "cell_type": "code",
   "execution_count": 11,
   "id": "d9689c18",
   "metadata": {},
   "outputs": [],
   "source": [
    "mm=LM.mass_matrix_full"
   ]
  },
  {
   "cell_type": "code",
   "execution_count": 12,
   "id": "9709785f",
   "metadata": {},
   "outputs": [],
   "source": [
    "ff=LM.forcing_full"
   ]
  },
  {
   "cell_type": "markdown",
   "id": "4b47cd8f",
   "metadata": {},
   "source": [
    "# Substitutions"
   ]
  },
  {
   "cell_type": "code",
   "execution_count": 13,
   "id": "26894b16",
   "metadata": {},
   "outputs": [],
   "source": [
    "subs_dict={L:1,m0:1,m:1,g:10,R:1,S:0}\n",
    "mmq=mm.subs(subs_dict)\n",
    "forcingq=ff.subs(subs_dict)"
   ]
  },
  {
   "cell_type": "code",
   "execution_count": 14,
   "id": "9fbf32f8",
   "metadata": {},
   "outputs": [],
   "source": [
    "#mmq"
   ]
  },
  {
   "cell_type": "code",
   "execution_count": 15,
   "id": "d6a9bb87",
   "metadata": {},
   "outputs": [],
   "source": [
    "#forcingq"
   ]
  },
  {
   "cell_type": "markdown",
   "id": "604393f0",
   "metadata": {},
   "source": [
    "# Generation functions"
   ]
  },
  {
   "cell_type": "code",
   "execution_count": 16,
   "id": "14955c5c",
   "metadata": {},
   "outputs": [],
   "source": [
    "mmf=lambdify([q0,q1,q2],mmq)\n",
    "forcingf=lambdify([q0,q1,q2,u0,u1,u2],forcingq)"
   ]
  },
  {
   "cell_type": "code",
   "execution_count": 17,
   "id": "a053728d",
   "metadata": {},
   "outputs": [],
   "source": [
    "#mmf(1,1,1)"
   ]
  },
  {
   "cell_type": "code",
   "execution_count": 18,
   "id": "5e9033fd",
   "metadata": {},
   "outputs": [],
   "source": [
    "#stv=[q0,q1,q2,u0,u1,u2]"
   ]
  },
  {
   "cell_type": "markdown",
   "id": "588eee98",
   "metadata": {},
   "source": [
    "# Function for right hand side of Runge Kutta method"
   ]
  },
  {
   "cell_type": "code",
   "execution_count": 19,
   "id": "37ed5b6c",
   "metadata": {},
   "outputs": [],
   "source": [
    "def dydt(stv,t):\n",
    "    amat=mmf(stv[0],stv[1],stv[2])\n",
    "    bvec=forcingf(stv[0],stv[1],stv[2],stv[3],stv[4],stv[5])\n",
    "    xvec=linalg.solve(amat,bvec)\n",
    "    return xvec.flatten()"
   ]
  },
  {
   "cell_type": "markdown",
   "id": "08f749d8",
   "metadata": {},
   "source": [
    "# Initial conditions and time steps"
   ]
  },
  {
   "cell_type": "code",
   "execution_count": 20,
   "id": "105dc3d8",
   "metadata": {},
   "outputs": [],
   "source": [
    "stv_in=np.array([1.5,radians(30),radians(60),0,0,0,0,0],dtype=float)\n",
    "nval=100; ts = np.linspace(0, 1, nval)"
   ]
  },
  {
   "cell_type": "markdown",
   "id": "baa33299",
   "metadata": {},
   "source": [
    "# Integration in time"
   ]
  },
  {
   "cell_type": "code",
   "execution_count": 21,
   "id": "00e283fc",
   "metadata": {},
   "outputs": [],
   "source": [
    "out=integrate.odeint(dydt,stv_in,ts)"
   ]
  },
  {
   "cell_type": "code",
   "execution_count": 22,
   "id": "8f00cf20",
   "metadata": {},
   "outputs": [
    {
     "data": {
      "text/plain": [
       "array([ 0.        ,  0.04786767,  0.09572134,  0.14354692,  0.19133021,\n",
       "        0.23905676,  0.28671184,  0.33428036,  0.38174677,  0.42909497,\n",
       "        0.47630828,  0.52336926,  0.5702597 ,  0.61696045,  0.66345134,\n",
       "        0.70971106,  0.75571705,  0.80144532,  0.84687035,  0.89196493,\n",
       "        0.93669998,  0.98104443,  1.02496498,  1.06842599,  1.11138928,\n",
       "        1.15381395,  1.19565632,  1.23686976,  1.27740474,  1.31720892,\n",
       "        1.35622744,  1.39440353,  1.43167956,  1.46799867,  1.50330757,\n",
       "        1.53756075,  1.57072718,  1.60280055,  1.63381529,  1.6638714 ,\n",
       "        1.69317335,  1.72209127,  1.75125764,  1.78172107,  1.81518982,\n",
       "        1.85441365,  1.90376335,  1.9700484 ,  2.06348392,  2.1983176 ,\n",
       "        2.39181584,  2.65961489,  3.00709407,  3.42210543,  3.87752142,\n",
       "        4.34324282,  4.7970203 ,  5.22737076,  5.63098334,  6.00908543,\n",
       "        6.36483131,  6.70187433,  7.02371946,  7.33348888,  7.63387877,\n",
       "        7.92719285,  8.21539966,  8.50019051,  8.78302942,  9.06519244,\n",
       "        9.34779602,  9.63181512,  9.91809166, 10.20733404, 10.50010818,\n",
       "       10.79682094, 11.09769673, 11.40274922, 11.71175046, 12.02420156,\n",
       "       12.33930931, 12.65597518, 12.97280229, 13.28812579, 13.60006917,\n",
       "       13.90662576, 14.2057596 , 14.49551623, 14.77413058, 15.04011943,\n",
       "       15.29234782, 15.5300638 , 15.75290066, 15.960851  , 16.15421996,\n",
       "       16.33356602, 16.49963769, 16.65331241, 16.79554218, 16.92730811])"
      ]
     },
     "execution_count": 22,
     "metadata": {},
     "output_type": "execute_result"
    }
   ],
   "source": [
    "out[:,7]"
   ]
  },
  {
   "cell_type": "markdown",
   "id": "496a2989",
   "metadata": {},
   "source": [
    "# Exporting position values for animation"
   ]
  },
  {
   "cell_type": "code",
   "execution_count": 23,
   "id": "62640f10",
   "metadata": {},
   "outputs": [],
   "source": [
    "qlist=[q0,q1,q2]\n",
    "plist=[O,P1,P2]\n",
    "slist=out"
   ]
  },
  {
   "cell_type": "code",
   "execution_count": 24,
   "id": "cbf138f7",
   "metadata": {},
   "outputs": [],
   "source": [
    "xvalt=np.array([],float)\n",
    "yvalt=np.array([],float)\n",
    "for ii in range(0,np.shape(slist)[0]):\n",
    "    xval=np.array([],float)\n",
    "    yval=np.array([],float)\n",
    "    for pdum in plist:\n",
    "        #print(pdum)\n",
    "        posv=pdum.pos_from(O).subs(subs_dict)\n",
    "        #print(posv)\n",
    "        for i in range(0,len(qlist)):\n",
    "            posv=posv.express(N).subs({qlist[i]:slist[ii,i]})\n",
    "        posvx=dot(posv,N.x).evalf()\n",
    "        posvy=dot(posv,N.y).evalf()\n",
    "        #print(posvx)\n",
    "        xval=np.append(xval,posvx)\n",
    "        yval=np.append(yval,posvy)\n",
    "    xvalt=np.append(xvalt,xval)\n",
    "    yvalt=np.append(yvalt,yval)\n",
    "xvalt=np.reshape(xvalt,(len(slist),len(plist)))\n",
    "yvalt=np.reshape(yvalt,(len(slist),len(plist)))\n",
    "val=np.block([xvalt,yvalt])"
   ]
  },
  {
   "cell_type": "code",
   "execution_count": 25,
   "id": "f607d442",
   "metadata": {},
   "outputs": [],
   "source": [
    "np.savetxt('db_check_anim2.txt',val)"
   ]
  },
  {
   "cell_type": "code",
   "execution_count": 26,
   "id": "c1788b96",
   "metadata": {},
   "outputs": [],
   "source": [
    "#xvalt"
   ]
  },
  {
   "cell_type": "markdown",
   "id": "ce5a3eff",
   "metadata": {},
   "source": [
    "# Derivative of state vector with values for lambdas"
   ]
  },
  {
   "cell_type": "code",
   "execution_count": 29,
   "id": "d6c7adf4",
   "metadata": {},
   "outputs": [],
   "source": [
    "stv_deriv=np.array([],float)\n",
    "for ii in range(0,np.shape(slist)[0]):\n",
    "    amat=mmf(slist[ii,0],slist[ii,1],slist[ii,2])\n",
    "    bvec=forcingf(slist[ii,0],slist[ii,1],slist[ii,2],slist[ii,3],slist[ii,4],slist[ii,5])\n",
    "    xvec=linalg.solve(amat,bvec)\n",
    "    stv_deriv=np.append(gen_acc,xvec)\n",
    "stv_deriv=np.reshape(gen_acc,(len(slist),8))"
   ]
  },
  {
   "cell_type": "code",
   "execution_count": 30,
   "id": "712ed059",
   "metadata": {},
   "outputs": [
    {
     "data": {
      "text/plain": [
       "array([-2.71103605, -2.71148142, -2.71281493, -2.7150286 , -2.71810897,\n",
       "       -2.72203675, -2.72678636, -2.73232536, -2.73861361, -2.74560232,\n",
       "       -2.75323278, -2.76143492, -2.77012546, -2.77920569, -2.78855879,\n",
       "       -2.79804652, -2.80750526, -2.81674109, -2.82552381, -2.83357961,\n",
       "       -2.84058195, -2.8461403 , -2.84978608, -2.85095507, -2.84896522,\n",
       "       -2.84298858, -2.83201542, -2.81480824, -2.78984234, -2.75522836,\n",
       "       -2.70861074, -2.64703338, -2.56676036, -2.46303512, -2.32975326,\n",
       "       -2.1590149 , -1.94050626, -1.66063898, -1.3013431 , -0.8383662 ,\n",
       "       -0.23887327,  0.54192369,  1.56541957,  2.91579069,  4.70746437,\n",
       "        7.09212949, 10.2594275 , 14.41601796, 19.7106792 , 26.05800298,\n",
       "       32.85325504, 38.7714791 , 42.12270897, 41.91344466, 38.62356476,\n",
       "       33.71288134, 28.5559696 , 23.92419651, 20.06839641, 16.96490858,\n",
       "       14.49207814, 12.51540588, 10.91816812,  9.60771077,  8.51304901,\n",
       "        7.58034611,  6.76860571,  6.04620093,  5.38826015,  4.7747607 ,\n",
       "        4.18916681,  3.61747889,  3.04759924,  2.46895142,  1.87231469,\n",
       "        1.24985053,  0.59530434, -0.09563782, -0.82487135, -1.59133265,\n",
       "       -2.39048472, -3.21394905, -4.04942112, -4.88099838, -5.69000047,\n",
       "       -6.45627304, -7.15985251, -7.78276325, -8.31065901, -8.73403391,\n",
       "       -9.04881729, -9.25630076, -9.3624829 , -9.37701359, -9.31195784,\n",
       "       -9.1805796 , -8.99629121, -8.77184658, -8.51879692, -8.24718579])"
      ]
     },
     "execution_count": 30,
     "metadata": {},
     "output_type": "execute_result"
    }
   ],
   "source": [
    "stv_deriv[:,6]"
   ]
  },
  {
   "cell_type": "code",
   "execution_count": null,
   "id": "44507850",
   "metadata": {},
   "outputs": [],
   "source": []
  }
 ],
 "metadata": {
  "kernelspec": {
   "display_name": "Python 3 (ipykernel)",
   "language": "python",
   "name": "python3"
  },
  "language_info": {
   "codemirror_mode": {
    "name": "ipython",
    "version": 3
   },
   "file_extension": ".py",
   "mimetype": "text/x-python",
   "name": "python",
   "nbconvert_exporter": "python",
   "pygments_lexer": "ipython3",
   "version": "3.10.11"
  }
 },
 "nbformat": 4,
 "nbformat_minor": 5
}
