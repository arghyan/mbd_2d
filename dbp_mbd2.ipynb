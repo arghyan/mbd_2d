{
 "cells": [
  {
   "cell_type": "code",
   "execution_count": 78,
   "id": "3edf7f00",
   "metadata": {},
   "outputs": [],
   "source": [
    "from sympy.physics.vector import dynamicsymbols\n",
    "from sympy.physics.vector import init_vprinting\n",
    "init_vprinting()\n",
    "from sympy import *"
   ]
  },
  {
   "cell_type": "code",
   "execution_count": 79,
   "id": "f96c4b97",
   "metadata": {},
   "outputs": [],
   "source": [
    "q1,q2,q3=dynamicsymbols('q1,q2,q3')\n",
    "u1,u2,u3=dynamicsymbols('u1,u2,u3')\n",
    "u1d,u2d,u3d=dynamicsymbols('u1d,u2d,u3d')\n",
    "L_1,L_2=symbols('L_1,L_2')\n",
    "F1,F2=symbols('F1,F2')\n",
    "m1,m2,I1,I2,g=symbols('m1,m2,I1,I2,g')"
   ]
  },
  {
   "cell_type": "markdown",
   "id": "ee501e3f",
   "metadata": {},
   "source": [
    " ## List of symbols ##"
   ]
  },
  {
   "cell_type": "code",
   "execution_count": 80,
   "id": "3b174bc7",
   "metadata": {},
   "outputs": [],
   "source": [
    "brot=[q1,q2]\n",
    "brotd=[u1,u2]\n",
    "brotd2=[u1d,u2d]"
   ]
  },
  {
   "cell_type": "code",
   "execution_count": 81,
   "id": "e9de251f",
   "metadata": {},
   "outputs": [
    {
     "data": {
      "image/png": "[encoded data removed]",
      "text/latex": [
       "$\\displaystyle \\left( \\left[ q_{1}, \\  q_{2}\\right], \\  \\left[ u_{1}, \\  u_{2}\\right], \\  \\left[ u1d, \\  u2d\\right]\\right)$"
      ],
      "text/plain": [
       "([q₁, q₂], [u₁, u₂], [u1d, u2d])"
      ]
     },
     "execution_count": 81,
     "metadata": {},
     "output_type": "execute_result"
    }
   ],
   "source": [
    "brot,brotd,brotd2"
   ]
  },
  {
   "cell_type": "code",
   "execution_count": 82,
   "id": "61e87c70",
   "metadata": {},
   "outputs": [],
   "source": [
    "PQ=[[L_1,0],[L_2,0]]\n",
    "PG=[[L_1,0],[L_2,0]]\n",
    "Mass=[m1,m2]\n",
    "Inertia=[0,0]\n",
    "F_app=[[m1*g,0],[m2*g,0]]\n",
    "M_app=[0,0]"
   ]
  },
  {
   "cell_type": "markdown",
   "id": "ce0ea4ce",
   "metadata": {},
   "source": [
    "## List of matrices ##"
   ]
  },
  {
   "cell_type": "code",
   "execution_count": 83,
   "id": "d75a178e",
   "metadata": {},
   "outputs": [],
   "source": [
    "shifterloc=[]\n",
    "q_r=Matrix([])\n",
    "for i in range(0,len(brot)):\n",
    "    sloc=Matrix([[cos(brot[i]),sin(brot[i])],[-sin(brot[i]),cos(brot[i])]])\n",
    "    shifterloc.append(sloc)"
   ]
  },
  {
   "cell_type": "code",
   "execution_count": 84,
   "id": "2434c7d6",
   "metadata": {},
   "outputs": [
    {
     "data": {
      "text/latex": [
       "$\\displaystyle \\left[ \\left[\\begin{matrix}\\cos{\\left(q_{1} \\right)} & \\sin{\\left(q_{1} \\right)}\\\\- \\sin{\\left(q_{1} \\right)} & \\cos{\\left(q_{1} \\right)}\\end{matrix}\\right], \\  \\left[\\begin{matrix}\\cos{\\left(q_{2} \\right)} & \\sin{\\left(q_{2} \\right)}\\\\- \\sin{\\left(q_{2} \\right)} & \\cos{\\left(q_{2} \\right)}\\end{matrix}\\right]\\right]$"
      ],
      "text/plain": [
       "⎡⎡cos(q₁)   sin(q₁)⎤  ⎡cos(q₂)   sin(q₂)⎤⎤\n",
       "⎢⎢                 ⎥, ⎢                 ⎥⎥\n",
       "⎣⎣-sin(q₁)  cos(q₁)⎦  ⎣-sin(q₂)  cos(q₂)⎦⎦"
      ]
     },
     "execution_count": 84,
     "metadata": {},
     "output_type": "execute_result"
    }
   ],
   "source": [
    "shifterloc"
   ]
  },
  {
   "cell_type": "code",
   "execution_count": 85,
   "id": "4bb9966a",
   "metadata": {},
   "outputs": [],
   "source": [
    "shifter=[None]*len(brot)\n",
    "for i in range(0,len(brot)):\n",
    "    sprev=eye(2)\n",
    "    for j in range(0,len(brot)):\n",
    "        sprev=sprev*shifterloc[j]\n",
    "        #sprev=shifterloc[j]\n",
    "        shifter[j]=sprev\n",
    "        shifter[j].simplify()"
   ]
  },
  {
   "cell_type": "code",
   "execution_count": 86,
   "id": "cbb7dfd2",
   "metadata": {},
   "outputs": [
    {
     "data": {
      "text/latex": [
       "$\\displaystyle \\left[ \\left[\\begin{matrix}\\cos{\\left(q_{1} \\right)} & \\sin{\\left(q_{1} \\right)}\\\\- \\sin{\\left(q_{1} \\right)} & \\cos{\\left(q_{1} \\right)}\\end{matrix}\\right], \\  \\left[\\begin{matrix}\\cos{\\left(q_{1} + q_{2} \\right)} & \\sin{\\left(q_{1} + q_{2} \\right)}\\\\- \\sin{\\left(q_{1} + q_{2} \\right)} & \\cos{\\left(q_{1} + q_{2} \\right)}\\end{matrix}\\right]\\right]$"
      ],
      "text/plain": [
       "⎡⎡cos(q₁)   sin(q₁)⎤  ⎡cos(q₁ + q₂)   sin(q₁ + q₂)⎤⎤\n",
       "⎢⎢                 ⎥, ⎢                           ⎥⎥\n",
       "⎣⎣-sin(q₁)  cos(q₁)⎦  ⎣-sin(q₁ + q₂)  cos(q₁ + q₂)⎦⎦"
      ]
     },
     "execution_count": 86,
     "metadata": {},
     "output_type": "execute_result"
    }
   ],
   "source": [
    "shifter"
   ]
  },
  {
   "cell_type": "code",
   "execution_count": 87,
   "id": "1ac399a5",
   "metadata": {},
   "outputs": [],
   "source": [
    "omega=[None]*len(brot)\n",
    "alpha=[None]*len(brot)\n",
    "for i in range(0,len(brot)):\n",
    "    omega[i]=diff(shifter[i])*shifter[i].transpose()\n",
    "    omega[i].simplify()\n",
    "    omega[i]=omega[i].subs([(diff(brot[0]),brotd[0]),(diff(brot[1]),brotd[1])])\n",
    "    alpha[i]=diff(omega[i])\n",
    "    alpha[i]=alpha[i].subs([(diff(brotd[0]),brotd2[0]),(diff(brotd[1]),brotd2[1])])"
   ]
  },
  {
   "cell_type": "code",
   "execution_count": 88,
   "id": "9ebd6fcb",
   "metadata": {},
   "outputs": [
    {
     "data": {
      "text/latex": [
       "$\\displaystyle \\left[ \\left[\\begin{matrix}0 & u_{1}\\\\- u_{1} & 0\\end{matrix}\\right], \\  \\left[\\begin{matrix}0 & u_{1} + u_{2}\\\\- u_{1} - u_{2} & 0\\end{matrix}\\right]\\right]$"
      ],
      "text/plain": [
       "⎡⎡ 0   u₁⎤  ⎡   0      u₁ + u₂⎤⎤\n",
       "⎢⎢       ⎥, ⎢                 ⎥⎥\n",
       "⎣⎣-u₁  0 ⎦  ⎣-u₁ - u₂     0   ⎦⎦"
      ]
     },
     "execution_count": 88,
     "metadata": {},
     "output_type": "execute_result"
    }
   ],
   "source": [
    "omega"
   ]
  },
  {
   "cell_type": "code",
   "execution_count": 89,
   "id": "b42919c1",
   "metadata": {},
   "outputs": [
    {
     "data": {
      "text/latex": [
       "$\\displaystyle \\left[ \\left[\\begin{matrix}0 & u1d\\\\- u1d & 0\\end{matrix}\\right], \\  \\left[\\begin{matrix}0 & u1d + u2d\\\\- u1d - u2d & 0\\end{matrix}\\right]\\right]$"
      ],
      "text/plain": [
       "⎡⎡ 0    u1d⎤  ⎡    0       u1d + u2d⎤⎤\n",
       "⎢⎢         ⎥, ⎢                     ⎥⎥\n",
       "⎣⎣-u1d   0 ⎦  ⎣-u1d - u2d      0    ⎦⎦"
      ]
     },
     "execution_count": 89,
     "metadata": {},
     "output_type": "execute_result"
    }
   ],
   "source": [
    "alpha"
   ]
  },
  {
   "cell_type": "code",
   "execution_count": 90,
   "id": "78b360e5",
   "metadata": {},
   "outputs": [],
   "source": [
    "Twq=eye(len(brot))\n",
    "for i in range(1,len(brot)):\n",
    "    for j in range(0,i):\n",
    "        Twq[j,i]=1"
   ]
  },
  {
   "cell_type": "code",
   "execution_count": 91,
   "id": "4715dc70",
   "metadata": {},
   "outputs": [],
   "source": [
    "Wpd=Twq"
   ]
  },
  {
   "cell_type": "code",
   "execution_count": 92,
   "id": "8fcaf9e8",
   "metadata": {},
   "outputs": [
    {
     "data": {
      "text/latex": [
       "$\\displaystyle \\left[\\begin{matrix}1 & 1\\\\0 & 1\\end{matrix}\\right]$"
      ],
      "text/plain": [
       "⎡1  1⎤\n",
       "⎢    ⎥\n",
       "⎣0  1⎦"
      ]
     },
     "execution_count": 92,
     "metadata": {},
     "output_type": "execute_result"
    }
   ],
   "source": [
    "Wpd"
   ]
  },
  {
   "cell_type": "code",
   "execution_count": 93,
   "id": "2e9700ce",
   "metadata": {},
   "outputs": [],
   "source": [
    "S_r=[]\n",
    "S_p=[]\n",
    "body_r=[]\n",
    "body_p=[]\n",
    "for i in range(0,len(brot)):\n",
    "    S_r.append(Matrix([-PG[i][1],PG[i][0]]).T)\n",
    "    S_p.append(Matrix([-PQ[i][1],PQ[i][0]]).T)"
   ]
  },
  {
   "cell_type": "code",
   "execution_count": 94,
   "id": "d6e49e44",
   "metadata": {},
   "outputs": [
    {
     "data": {
      "text/latex": [
       "$\\displaystyle \\left[ \\left[\\begin{matrix}0 & L_{1}\\end{matrix}\\right], \\  \\left[\\begin{matrix}0 & L_{2}\\end{matrix}\\right]\\right]$"
      ],
      "text/plain": [
       "[[0  L₁], [0  L₂]]"
      ]
     },
     "execution_count": 94,
     "metadata": {},
     "output_type": "execute_result"
    }
   ],
   "source": [
    "S_r"
   ]
  },
  {
   "cell_type": "code",
   "execution_count": 95,
   "id": "91ccc733",
   "metadata": {},
   "outputs": [
    {
     "data": {
      "text/latex": [
       "$\\displaystyle \\left[ \\left[\\begin{matrix}0 & L_{1}\\end{matrix}\\right], \\  \\left[\\begin{matrix}0 & L_{2}\\end{matrix}\\right]\\right]$"
      ],
      "text/plain": [
       "[[0  L₁], [0  L₂]]"
      ]
     },
     "execution_count": 95,
     "metadata": {},
     "output_type": "execute_result"
    }
   ],
   "source": [
    "S_p"
   ]
  },
  {
   "cell_type": "markdown",
   "id": "1632ea0c",
   "metadata": {},
   "source": [
    "## Full matrices ##"
   ]
  },
  {
   "cell_type": "code",
   "execution_count": 96,
   "id": "3c2b9f35",
   "metadata": {},
   "outputs": [],
   "source": [
    "V1=zeros(len(brot),2*len(brot))\n",
    "for j in range(0,len(brot)):\n",
    "    for i in range(0,j):\n",
    "        V1[i,j*2:j*2+2]=S_p[i]*shifter[i]\n",
    "    for i in range(j,j+1):\n",
    "        V1[i,j*2:j*2+2]=S_r[i]*shifter[i]"
   ]
  },
  {
   "cell_type": "code",
   "execution_count": 97,
   "id": "f8f91dbf",
   "metadata": {},
   "outputs": [
    {
     "data": {
      "text/latex": [
       "$\\displaystyle \\left[\\begin{matrix}- L_{1} \\sin{\\left(q_{1} \\right)} & L_{1} \\cos{\\left(q_{1} \\right)} & - L_{1} \\sin{\\left(q_{1} \\right)} & L_{1} \\cos{\\left(q_{1} \\right)}\\\\0 & 0 & - L_{2} \\sin{\\left(q_{1} + q_{2} \\right)} & L_{2} \\cos{\\left(q_{1} + q_{2} \\right)}\\end{matrix}\\right]$"
      ],
      "text/plain": [
       "⎡-L₁⋅sin(q₁)  L₁⋅cos(q₁)    -L₁⋅sin(q₁)       L₁⋅cos(q₁)   ⎤\n",
       "⎢                                                          ⎥\n",
       "⎣     0           0       -L₂⋅sin(q₁ + q₂)  L₂⋅cos(q₁ + q₂)⎦"
      ]
     },
     "execution_count": 97,
     "metadata": {},
     "output_type": "execute_result"
    }
   ],
   "source": [
    "V1"
   ]
  },
  {
   "cell_type": "code",
   "execution_count": 98,
   "id": "fb342eb0",
   "metadata": {},
   "outputs": [],
   "source": [
    "Vpd=Twq*V1"
   ]
  },
  {
   "cell_type": "code",
   "execution_count": 99,
   "id": "f90e4135",
   "metadata": {},
   "outputs": [
    {
     "data": {
      "text/latex": [
       "$\\displaystyle \\left[\\begin{matrix}- L_{1} \\sin{\\left(q_{1} \\right)} & L_{1} \\cos{\\left(q_{1} \\right)} & - L_{1} \\sin{\\left(q_{1} \\right)} - L_{2} \\sin{\\left(q_{1} + q_{2} \\right)} & L_{1} \\cos{\\left(q_{1} \\right)} + L_{2} \\cos{\\left(q_{1} + q_{2} \\right)}\\\\0 & 0 & - L_{2} \\sin{\\left(q_{1} + q_{2} \\right)} & L_{2} \\cos{\\left(q_{1} + q_{2} \\right)}\\end{matrix}\\right]$"
      ],
      "text/plain": [
       "⎡-L₁⋅sin(q₁)  L₁⋅cos(q₁)  -L₁⋅sin(q₁) - L₂⋅sin(q₁ + q₂)  L₁⋅cos(q₁) + L₂⋅cos(q\n",
       "⎢                                                                             \n",
       "⎣     0           0             -L₂⋅sin(q₁ + q₂)               L₂⋅cos(q₁ + q₂)\n",
       "\n",
       "₁ + q₂)⎤\n",
       "       ⎥\n",
       "       ⎦"
      ]
     },
     "execution_count": 99,
     "metadata": {},
     "output_type": "execute_result"
    }
   ],
   "source": [
    "Vpd"
   ]
  },
  {
   "cell_type": "code",
   "execution_count": 100,
   "id": "4182a1ff",
   "metadata": {},
   "outputs": [
    {
     "data": {
      "text/latex": [
       "$\\displaystyle \\left[\\begin{matrix}- L_{1} m_{1} u_{1} \\cos{\\left(q_{1} \\right)} & - L_{1} m_{1} u_{1} \\sin{\\left(q_{1} \\right)} & - L_{1} m_{2} u_{1} \\cos{\\left(q_{1} \\right)} & - L_{1} m_{2} u_{1} \\sin{\\left(q_{1} \\right)}\\\\0 & 0 & L_{2} m_{2} \\left(- u_{1} - u_{2}\\right) \\cos{\\left(q_{1} + q_{2} \\right)} & L_{2} m_{2} \\left(- u_{1} - u_{2}\\right) \\sin{\\left(q_{1} + q_{2} \\right)}\\end{matrix}\\right]$"
      ],
      "text/plain": [
       "⎡-L₁⋅m₁⋅u₁⋅cos(q₁)  -L₁⋅m₁⋅u₁⋅sin(q₁)        -L₁⋅m₂⋅u₁⋅cos(q₁)              -L\n",
       "⎢                                                                             \n",
       "⎣        0                  0          L₂⋅m₂⋅(-u₁ - u₂)⋅cos(q₁ + q₂)  L₂⋅m₂⋅(-\n",
       "\n",
       "₁⋅m₂⋅u₁⋅sin(q₁)      ⎤\n",
       "                     ⎥\n",
       "u₁ - u₂)⋅sin(q₁ + q₂)⎦"
      ]
     },
     "execution_count": 100,
     "metadata": {},
     "output_type": "execute_result"
    }
   ],
   "source": [
    "mat1=zeros(len(brot),2*len(brot))\n",
    "for j in range(0,len(brot)):\n",
    "    for i in range(0,j):\n",
    "        mat1[i,j*2:j*2+2]=S_p[i]*omega[i]*shifter[i]*Mass[j]*eye(2)\n",
    "    for i in range(j,j+1):\n",
    "        mat1[i,j*2:j*2+2]=S_r[i]*omega[i]*shifter[i]*Mass[j]*eye(2)\n",
    "\n",
    "mat1"
   ]
  },
  {
   "cell_type": "code",
   "execution_count": 101,
   "id": "54af3aa5",
   "metadata": {},
   "outputs": [
    {
     "data": {
      "text/latex": [
       "$\\displaystyle \\left[\\begin{matrix}- L_{1} m_{1} u_{1} \\cos{\\left(q_{1} \\right)} & - L_{1} m_{1} u_{1} \\sin{\\left(q_{1} \\right)} & - L_{1} m_{2} u_{1} \\cos{\\left(q_{1} \\right)} + L_{2} m_{2} \\left(- u_{1} - u_{2}\\right) \\cos{\\left(q_{1} + q_{2} \\right)} & - L_{1} m_{2} u_{1} \\sin{\\left(q_{1} \\right)} + L_{2} m_{2} \\left(- u_{1} - u_{2}\\right) \\sin{\\left(q_{1} + q_{2} \\right)}\\\\0 & 0 & L_{2} m_{2} \\left(- u_{1} - u_{2}\\right) \\cos{\\left(q_{1} + q_{2} \\right)} & L_{2} m_{2} \\left(- u_{1} - u_{2}\\right) \\sin{\\left(q_{1} + q_{2} \\right)}\\end{matrix}\\right]$"
      ],
      "text/plain": [
       "⎡-L₁⋅m₁⋅u₁⋅cos(q₁)  -L₁⋅m₁⋅u₁⋅sin(q₁)  -L₁⋅m₂⋅u₁⋅cos(q₁) + L₂⋅m₂⋅(-u₁ - u₂)⋅co\n",
       "⎢                                                                             \n",
       "⎣        0                  0                    L₂⋅m₂⋅(-u₁ - u₂)⋅cos(q₁ + q₂)\n",
       "\n",
       "s(q₁ + q₂)  -L₁⋅m₂⋅u₁⋅sin(q₁) + L₂⋅m₂⋅(-u₁ - u₂)⋅sin(q₁ + q₂)⎤\n",
       "                                                             ⎥\n",
       "                      L₂⋅m₂⋅(-u₁ - u₂)⋅sin(q₁ + q₂)          ⎦"
      ]
     },
     "execution_count": 101,
     "metadata": {},
     "output_type": "execute_result"
    }
   ],
   "source": [
    "A1=Twq*mat1\n",
    "A1"
   ]
  },
  {
   "cell_type": "code",
   "execution_count": 102,
   "id": "4dffc577",
   "metadata": {},
   "outputs": [
    {
     "data": {
      "text/latex": [
       "$\\displaystyle \\left[\\begin{matrix}- L_{1} m_{1} \\sin{\\left(q_{1} \\right)} & L_{1} m_{1} \\cos{\\left(q_{1} \\right)} & - L_{1} m_{2} \\sin{\\left(q_{1} \\right)} & L_{1} m_{2} \\cos{\\left(q_{1} \\right)}\\\\0 & 0 & - L_{2} m_{2} \\sin{\\left(q_{1} + q_{2} \\right)} & L_{2} m_{2} \\cos{\\left(q_{1} + q_{2} \\right)}\\end{matrix}\\right]$"
      ],
      "text/plain": [
       "⎡-L₁⋅m₁⋅sin(q₁)  L₁⋅m₁⋅cos(q₁)    -L₁⋅m₂⋅sin(q₁)       L₁⋅m₂⋅cos(q₁)   ⎤\n",
       "⎢                                                                      ⎥\n",
       "⎣      0               0        -L₂⋅m₂⋅sin(q₁ + q₂)  L₂⋅m₂⋅cos(q₁ + q₂)⎦"
      ]
     },
     "execution_count": 102,
     "metadata": {},
     "output_type": "execute_result"
    }
   ],
   "source": [
    "mat2=zeros(len(brot),2*len(brot))\n",
    "for j in range(0,len(brot)):\n",
    "    for i in range(0,j):\n",
    "        mat2[i,j*2:j*2+2]=S_p[i]*shifter[i]*Mass[j]*eye(2)\n",
    "    for i in range(j,j+1):\n",
    "        mat2[i,j*2:j*2+2]=S_r[i]*shifter[i]*Mass[j]*eye(2)\n",
    "\n",
    "mat2"
   ]
  },
  {
   "cell_type": "code",
   "execution_count": 103,
   "id": "94c13790",
   "metadata": {},
   "outputs": [
    {
     "data": {
      "text/latex": [
       "$\\displaystyle \\left[\\begin{matrix}- L_{1} m_{1} \\sin{\\left(q_{1} \\right)} & L_{1} m_{1} \\cos{\\left(q_{1} \\right)} & - L_{1} m_{2} \\sin{\\left(q_{1} \\right)} - L_{2} m_{2} \\sin{\\left(q_{1} + q_{2} \\right)} & L_{1} m_{2} \\cos{\\left(q_{1} \\right)} + L_{2} m_{2} \\cos{\\left(q_{1} + q_{2} \\right)}\\\\0 & 0 & - L_{2} m_{2} \\sin{\\left(q_{1} + q_{2} \\right)} & L_{2} m_{2} \\cos{\\left(q_{1} + q_{2} \\right)}\\end{matrix}\\right]$"
      ],
      "text/plain": [
       "⎡-L₁⋅m₁⋅sin(q₁)  L₁⋅m₁⋅cos(q₁)  -L₁⋅m₂⋅sin(q₁) - L₂⋅m₂⋅sin(q₁ + q₂)  L₁⋅m₂⋅cos\n",
       "⎢                                                                             \n",
       "⎣      0               0                -L₂⋅m₂⋅sin(q₁ + q₂)                  L\n",
       "\n",
       "(q₁) + L₂⋅m₂⋅cos(q₁ + q₂)⎤\n",
       "                         ⎥\n",
       "₂⋅m₂⋅cos(q₁ + q₂)        ⎦"
      ]
     },
     "execution_count": 103,
     "metadata": {},
     "output_type": "execute_result"
    }
   ],
   "source": [
    "A2=Twq*mat2\n",
    "A2"
   ]
  },
  {
   "cell_type": "code",
   "execution_count": 104,
   "id": "faf699c5",
   "metadata": {},
   "outputs": [
    {
     "data": {
      "text/latex": [
       "$\\displaystyle \\left[\\begin{matrix}0 & 0\\\\0 & 0\\end{matrix}\\right]$"
      ],
      "text/plain": [
       "⎡0  0⎤\n",
       "⎢    ⎥\n",
       "⎣0  0⎦"
      ]
     },
     "execution_count": 104,
     "metadata": {},
     "output_type": "execute_result"
    }
   ],
   "source": [
    "A3=zeros(len(brot),len(brot))\n",
    "for j in range(0,len(brot)):\n",
    "    for i in range(0,len(brot)):\n",
    "        A3[i,j]=Twq[i,j]*Inertia[j]\n",
    "A3"
   ]
  },
  {
   "cell_type": "markdown",
   "id": "d9f91c3f",
   "metadata": {},
   "source": [
    "## Column vectors of gen vel, active force and active moment ##"
   ]
  },
  {
   "cell_type": "code",
   "execution_count": 105,
   "id": "eade9dbd",
   "metadata": {},
   "outputs": [],
   "source": [
    "qdvec = Matrix([])\n",
    "for i in range(0,len(brot)):\n",
    "    qdvec = qdvec.col_join(Matrix([brotd[i]]))"
   ]
  },
  {
   "cell_type": "code",
   "execution_count": 106,
   "id": "0c7c337d",
   "metadata": {},
   "outputs": [
    {
     "data": {
      "text/latex": [
       "$\\displaystyle \\left[\\begin{matrix}u_{1}\\\\u_{2}\\end{matrix}\\right]$"
      ],
      "text/plain": [
       "⎡u₁⎤\n",
       "⎢  ⎥\n",
       "⎣u₂⎦"
      ]
     },
     "execution_count": 106,
     "metadata": {},
     "output_type": "execute_result"
    }
   ],
   "source": [
    "qdvec"
   ]
  },
  {
   "cell_type": "code",
   "execution_count": 107,
   "id": "86e57784",
   "metadata": {},
   "outputs": [],
   "source": [
    "F_active = Matrix([])\n",
    "for i in range(0,len(brot)):\n",
    "    for j in range(0,2):\n",
    "        F_active = F_active.col_join(Matrix([F_app[i][j]]))"
   ]
  },
  {
   "cell_type": "code",
   "execution_count": 108,
   "id": "b1518bb5",
   "metadata": {},
   "outputs": [
    {
     "data": {
      "text/latex": [
       "$\\displaystyle \\left[\\begin{matrix}g m_{1}\\\\0\\\\g m_{2}\\\\0\\end{matrix}\\right]$"
      ],
      "text/plain": [
       "⎡g⋅m₁⎤\n",
       "⎢    ⎥\n",
       "⎢ 0  ⎥\n",
       "⎢    ⎥\n",
       "⎢g⋅m₂⎥\n",
       "⎢    ⎥\n",
       "⎣ 0  ⎦"
      ]
     },
     "execution_count": 108,
     "metadata": {},
     "output_type": "execute_result"
    }
   ],
   "source": [
    "F_active"
   ]
  },
  {
   "cell_type": "code",
   "execution_count": 109,
   "id": "a965a7dc",
   "metadata": {},
   "outputs": [],
   "source": [
    "M_active = Matrix([])\n",
    "for i in range(0,len(brot)):\n",
    "    M_active = M_active.col_join(Matrix([M_app[i]]))"
   ]
  },
  {
   "cell_type": "code",
   "execution_count": 110,
   "id": "93bf085f",
   "metadata": {},
   "outputs": [
    {
     "data": {
      "text/latex": [
       "$\\displaystyle \\left[\\begin{matrix}0\\\\0\\end{matrix}\\right]$"
      ],
      "text/plain": [
       "⎡0⎤\n",
       "⎢ ⎥\n",
       "⎣0⎦"
      ]
     },
     "execution_count": 110,
     "metadata": {},
     "output_type": "execute_result"
    }
   ],
   "source": [
    "M_active"
   ]
  },
  {
   "cell_type": "code",
   "execution_count": 111,
   "id": "dd965fa5",
   "metadata": {},
   "outputs": [],
   "source": [
    "f1 = Vpd*F_active + Wpd*M_active"
   ]
  },
  {
   "cell_type": "code",
   "execution_count": 112,
   "id": "c67496c1",
   "metadata": {},
   "outputs": [],
   "source": [
    "f1.simplify()"
   ]
  },
  {
   "cell_type": "code",
   "execution_count": 113,
   "id": "b9a58e7f",
   "metadata": {},
   "outputs": [],
   "source": [
    "f=f1-Vpd*A1.T*qdvec"
   ]
  },
  {
   "cell_type": "code",
   "execution_count": 114,
   "id": "f475a781",
   "metadata": {},
   "outputs": [
    {
     "data": {
      "text/latex": [
       "$\\displaystyle \\left[\\begin{matrix}2 L_{1} L_{2} m_{2} u_{1} u_{2} \\sin{\\left(q_{2} \\right)} + L_{1} L_{2} m_{2} u_{2}^{2} \\sin{\\left(q_{2} \\right)} - L_{1} g m_{1} \\sin{\\left(q_{1} \\right)} - L_{1} g m_{2} \\sin{\\left(q_{1} \\right)} - L_{2} g m_{2} \\sin{\\left(q_{1} + q_{2} \\right)}\\\\- L_{2} m_{2} \\left(L_{1} u_{1}^{2} \\sin{\\left(q_{2} \\right)} + g \\sin{\\left(q_{1} + q_{2} \\right)}\\right)\\end{matrix}\\right]$"
      ],
      "text/plain": [
       "⎡                                      2                                      \n",
       "⎢2⋅L₁⋅L₂⋅m₂⋅u₁⋅u₂⋅sin(q₂) + L₁⋅L₂⋅m₂⋅u₂ ⋅sin(q₂) - L₁⋅g⋅m₁⋅sin(q₁) - L₁⋅g⋅m₂⋅s\n",
       "⎢                                                                             \n",
       "⎢                                        ⎛     2                         ⎞    \n",
       "⎣                                 -L₂⋅m₂⋅⎝L₁⋅u₁ ⋅sin(q₂) + g⋅sin(q₁ + q₂)⎠    \n",
       "\n",
       "                             ⎤\n",
       "in(q₁) - L₂⋅g⋅m₂⋅sin(q₁ + q₂)⎥\n",
       "                             ⎥\n",
       "                             ⎥\n",
       "                             ⎦"
      ]
     },
     "execution_count": 114,
     "metadata": {},
     "output_type": "execute_result"
    }
   ],
   "source": [
    "f.simplify()\n",
    "f"
   ]
  },
  {
   "cell_type": "code",
   "execution_count": 115,
   "id": "9f8cf139",
   "metadata": {},
   "outputs": [],
   "source": [
    "Mass = Vpd*A2.T + Wpd*A3.T"
   ]
  },
  {
   "cell_type": "code",
   "execution_count": 116,
   "id": "9012fffe",
   "metadata": {},
   "outputs": [],
   "source": [
    "Mass.simplify()"
   ]
  },
  {
   "cell_type": "code",
   "execution_count": 117,
   "id": "77d782d3",
   "metadata": {},
   "outputs": [
    {
     "data": {
      "text/latex": [
       "$\\displaystyle \\left[\\begin{matrix}L_{1}^{2} m_{1} + L_{1}^{2} m_{2} + 2 L_{1} L_{2} m_{2} \\cos{\\left(q_{2} \\right)} + L_{2}^{2} m_{2} & L_{2} m_{2} \\left(L_{1} \\cos{\\left(q_{2} \\right)} + L_{2}\\right)\\\\L_{2} m_{2} \\left(L_{1} \\cos{\\left(q_{2} \\right)} + L_{2}\\right) & L_{2}^{2} m_{2}\\end{matrix}\\right]$"
      ],
      "text/plain": [
       "⎡  2        2                             2                            ⎤\n",
       "⎢L₁ ⋅m₁ + L₁ ⋅m₂ + 2⋅L₁⋅L₂⋅m₂⋅cos(q₂) + L₂ ⋅m₂  L₂⋅m₂⋅(L₁⋅cos(q₂) + L₂)⎥\n",
       "⎢                                                                      ⎥\n",
       "⎢                                                         2            ⎥\n",
       "⎣           L₂⋅m₂⋅(L₁⋅cos(q₂) + L₂)                     L₂ ⋅m₂         ⎦"
      ]
     },
     "execution_count": 117,
     "metadata": {},
     "output_type": "execute_result"
    }
   ],
   "source": [
    "Mass"
   ]
  },
  {
   "cell_type": "code",
   "execution_count": null,
   "id": "05942c6f",
   "metadata": {},
   "outputs": [],
   "source": []
  }
 ],
 "metadata": {
  "kernelspec": {
   "display_name": "Python 3 (ipykernel)",
   "language": "python",
   "name": "python3"
  },
  "language_info": {
   "codemirror_mode": {
    "name": "ipython",
    "version": 3
   },
   "file_extension": ".py",
   "mimetype": "text/x-python",
   "name": "python",
   "nbconvert_exporter": "python",
   "pygments_lexer": "ipython3",
   "version": "3.9.13"
  }
 },
 "nbformat": 4,
 "nbformat_minor": 5
}
