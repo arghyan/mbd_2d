{
 "cells": [
  {
   "cell_type": "markdown",
   "id": "c01a1f68",
   "metadata": {},
   "source": [
    "# Module imports"
   ]
  },
  {
   "cell_type": "code",
   "execution_count": 1,
   "id": "cd3c1cc6",
   "metadata": {},
   "outputs": [],
   "source": [
    "from sympy.physics.mechanics import *\n",
    "from sympy import trigsimp,symbols,cos,sin,lambdify\n",
    "from math import radians,degrees\n",
    "import numpy as np\n",
    "from scipy import linalg, integrate\n",
    "init_vprinting()"
   ]
  },
  {
   "cell_type": "markdown",
   "id": "d40a2e7f",
   "metadata": {},
   "source": [
    "# Symbolic variables"
   ]
  },
  {
   "cell_type": "code",
   "execution_count": 2,
   "id": "fd2f0438",
   "metadata": {},
   "outputs": [],
   "source": [
    "q1,q2 = dynamicsymbols('q1,q2')\n",
    "#q1d,q2d = dynamicsymbols('q1 q2',1)\n",
    "u1,u2 = dynamicsymbols('q1,q2',1)\n",
    "u1d,u2d = dynamicsymbols('q1,q2',2)\n",
    "t = dynamicsymbols._t"
   ]
  },
  {
   "cell_type": "code",
   "execution_count": 3,
   "id": "ca9917fc",
   "metadata": {},
   "outputs": [],
   "source": [
    "m1,m2,L1,L2,g=symbols('m1,m2,L1,L2,g')\n",
    "R,S=symbols('R,S')\n",
    "a1=symbols('a1')"
   ]
  },
  {
   "cell_type": "markdown",
   "id": "e11100d0",
   "metadata": {},
   "source": [
    "# Reference frames and points"
   ]
  },
  {
   "cell_type": "code",
   "execution_count": 4,
   "id": "dd2a640e",
   "metadata": {},
   "outputs": [],
   "source": [
    "N = ReferenceFrame('N')\n",
    "O=Point('O')\n",
    "B1=N.orientnew('B1','Axis',[q1, N.z])\n",
    "P1 = O.locatenew('P1',L1*B1.x)\n",
    "G1 = O.locatenew('G1',(L1/2)*B1.x)\n",
    "B2=B1.orientnew('B2','Axis',[q2, B1.z])\n",
    "P2 = P1.locatenew('P2',L2*B2.x)\n",
    "G2 = P1.locatenew('G2',(L2/2)*B2.x)"
   ]
  },
  {
   "cell_type": "markdown",
   "id": "2323e8de",
   "metadata": {},
   "source": [
    "# Linear and angular velocities"
   ]
  },
  {
   "cell_type": "code",
   "execution_count": 5,
   "id": "55deabad",
   "metadata": {},
   "outputs": [
    {
     "data": {
      "image/png": "[encoded data removed]",
      "text/latex": [
       "$\\displaystyle L_{1} \\dot{q}_{1}\\mathbf{\\hat{b1}_y} + \\frac{L_{2} \\left(\\dot{q}_{1} + \\dot{q}_{2}\\right)}{2}\\mathbf{\\hat{b2}_y}$"
      ],
      "text/plain": [
       "             L₂⋅(q₁̇ + q₂̇)\n",
       "L₁⋅q₁̇ b1_y + ──────────── b2_y\n",
       "                  2"
      ]
     },
     "execution_count": 5,
     "metadata": {},
     "output_type": "execute_result"
    }
   ],
   "source": [
    "B1.set_ang_vel(N,u1*N.z)\n",
    "B2.set_ang_vel(N,(u1+u2)*N.z)\n",
    "O.set_vel(N,0)\n",
    "P1.v2pt_theory(O,N,B1)\n",
    "G1.v2pt_theory(O,N,B1)\n",
    "P2.v2pt_theory(P1,N,B2)\n",
    "G2.v2pt_theory(P1,N,B2)"
   ]
  },
  {
   "cell_type": "markdown",
   "id": "1eb69748",
   "metadata": {},
   "source": [
    "# Kinetic energy"
   ]
  },
  {
   "cell_type": "code",
   "execution_count": 6,
   "id": "8f808a31",
   "metadata": {},
   "outputs": [],
   "source": [
    "Tt=(1/2)*m1*dot(G1.vel(N),G1.vel(N)) +(1/2)*m2*dot(G2.vel(N),G2.vel(N))\n",
    "Tr=(1/2)*(m1*L1**2/12)*dot(B1.ang_vel_in(N),B1.ang_vel_in(N)) + (1/2)*(m2*L2**2/12)*dot(B2.ang_vel_in(N),B2.ang_vel_in(N))\n",
    "T=Tt+Tr\n",
    "#V1=m*g*dot(G1.pos_from(O),N.y)\n",
    "#V2=m*g*dot(G2.pos_from(O),N.y)\n",
    "#V=-R*q1+S*q2\n",
    "V=0"
   ]
  },
  {
   "cell_type": "markdown",
   "id": "1cb7ad76",
   "metadata": {},
   "source": [
    "# Constraint equation differentiated wrt time for specified displacement function"
   ]
  },
  {
   "cell_type": "code",
   "execution_count": 7,
   "id": "cc84a68e",
   "metadata": {},
   "outputs": [],
   "source": [
    "cons1=L1*cos(q1)*u1+L2*cos(q1+q2)*(u1+u2)-2*a1*t"
   ]
  },
  {
   "cell_type": "markdown",
   "id": "56b04e81",
   "metadata": {},
   "source": [
    "# Lagrange's equations"
   ]
  },
  {
   "cell_type": "code",
   "execution_count": 8,
   "id": "455002fa",
   "metadata": {},
   "outputs": [
    {
     "data": {
      "text/latex": [
       "$\\displaystyle \\left[\\begin{matrix}0.333333333333333 L_{1}^{2} m_{1} \\ddot{q}_{1} + \\frac{L_{1} g m_{1} \\cos{\\left(q_{1} \\right)}}{2} + L_{1} g m_{2} \\cos{\\left(q_{1} \\right)} + 0.0416666666666667 L_{2}^{2} m_{2} \\cdot \\left(2 \\ddot{q}_{1} + 2 \\ddot{q}_{2}\\right) + \\frac{L_{2} g m_{2} \\left(- \\sin{\\left(q_{1} \\right)} \\sin{\\left(q_{2} \\right)} + \\cos{\\left(q_{1} \\right)} \\cos{\\left(q_{2} \\right)}\\right)}{2} + 0.5 m_{2} \\cdot \\left(2 L_{1}^{2} \\ddot{q}_{1} - L_{1} L_{2} \\left(\\dot{q}_{1} + \\dot{q}_{2}\\right) \\sin{\\left(q_{2} \\right)} \\dot{q}_{2} + L_{1} L_{2} \\left(\\ddot{q}_{1} + \\ddot{q}_{2}\\right) \\cos{\\left(q_{2} \\right)} - L_{1} L_{2} \\sin{\\left(q_{2} \\right)} \\dot{q}_{1} \\dot{q}_{2} + L_{1} L_{2} \\cos{\\left(q_{2} \\right)} \\ddot{q}_{1} + \\frac{L_{2}^{2} \\cdot \\left(2 \\ddot{q}_{1} + 2 \\ddot{q}_{2}\\right)}{4}\\right) - \\left(- L_{1} \\cos{\\left(q_{1} \\right)} - L_{2} \\cos{\\left(q_{1} + q_{2} \\right)}\\right) lam_{1}\\\\0.5 L_{1} L_{2} m_{2} \\left(\\dot{q}_{1} + \\dot{q}_{2}\\right) \\sin{\\left(q_{2} \\right)} \\dot{q}_{1} + 0.0416666666666667 L_{2}^{2} m_{2} \\cdot \\left(2 \\ddot{q}_{1} + 2 \\ddot{q}_{2}\\right) + \\frac{L_{2} g m_{2} \\left(- \\sin{\\left(q_{1} \\right)} \\sin{\\left(q_{2} \\right)} + \\cos{\\left(q_{1} \\right)} \\cos{\\left(q_{2} \\right)}\\right)}{2} + L_{2} lam_{1} \\cos{\\left(q_{1} + q_{2} \\right)} + 0.5 m_{2} \\left(- L_{1} L_{2} \\sin{\\left(q_{2} \\right)} \\dot{q}_{1} \\dot{q}_{2} + L_{1} L_{2} \\cos{\\left(q_{2} \\right)} \\ddot{q}_{1} + \\frac{L_{2}^{2} \\cdot \\left(2 \\ddot{q}_{1} + 2 \\ddot{q}_{2}\\right)}{4}\\right)\\end{matrix}\\right]$"
      ],
      "text/plain": [
       "⎡                                                                             \n",
       "⎢                    2         L₁⋅g⋅m₁⋅cos(q₁)                                \n",
       "⎢0.333333333333333⋅L₁ ⋅m₁⋅q₁̈ + ─────────────── + L₁⋅g⋅m₂⋅cos(q₁) + 0.04166666\n",
       "⎢                                     2                                       \n",
       "⎢                                                                             \n",
       "⎢                                                                             \n",
       "⎢                                                                             \n",
       "⎢                                                       0.5⋅L₁⋅L₂⋅m₂⋅(q₁̇ + q₂\n",
       "⎣                                                                             \n",
       "\n",
       "                                                                              \n",
       "          2                    L₂⋅g⋅m₂⋅(-sin(q₁)⋅sin(q₂) + cos(q₁)⋅cos(q₂))   \n",
       "66666667⋅L₂ ⋅m₂⋅(2⋅q₁̈ + 2⋅q₂̈) + ────────────────────────────────────────────\n",
       "                                                    2                         \n",
       "                                                                              \n",
       "                                                                              \n",
       "                                   2                    L₂⋅g⋅m₂⋅(-sin(q₁)⋅sin(\n",
       "̇)⋅sin(q₂)⋅q₁̇ + 0.0416666666666667⋅L₂ ⋅m₂⋅(2⋅q₁̈ + 2⋅q₂̈) + ─────────────────\n",
       "                                                                             2\n",
       "\n",
       "       ⎛                                                                      \n",
       "       ⎜    2                                                                 \n",
       " + 0.5⋅m₂⋅⎜2⋅L₁ ⋅q₁̈ - L₁⋅L₂⋅(q₁̇ + q₂̇)⋅sin(q₂)⋅q₂̇ + L₁⋅L₂⋅(q₁̈ + q₂̈)⋅cos(q\n",
       "       ⎝                                                                      \n",
       "                                                                              \n",
       "                                                       ⎛                      \n",
       "q₂) + cos(q₁)⋅cos(q₂))                                 ⎜                      \n",
       "─────────────────────────── + L₂⋅lam₁⋅cos(q₁ + q₂) + 0.5⋅m₂⋅⎜-L₁⋅L₂⋅sin(q₂)⋅q₁\n",
       "                                                       ⎝                      \n",
       "\n",
       "                                       2              ⎞                       \n",
       "                                     L₂ ⋅(2⋅q₁̈ + 2⋅q₂̈)⎟                     \n",
       "₂) - L₁⋅L₂⋅sin(q₂)⋅q₁̇⋅q₂̇ + L₁⋅L₂⋅cos(q₂)⋅q₁̈ + ─────────────────⎟ - (-L₁⋅cos\n",
       "                                             4        ⎠                       \n",
       "                                                                              \n",
       "                      2              ⎞                                        \n",
       "                    L₂ ⋅(2⋅q₁̈ + 2⋅q₂̈)⎟                                      \n",
       "̇⋅q₂̇ + L₁⋅L₂⋅cos(q₂)⋅q₁̈ + ─────────────────⎟                                \n",
       "                            4        ⎠                                        \n",
       "\n",
       "                ⎤\n",
       "                  ⎥\n",
       "(q₁) - L₂⋅cos(q₁ + q₂))⋅lam₁⎥\n",
       "                ⎥\n",
       "                ⎥\n",
       "                ⎥\n",
       "                  ⎥\n",
       "                        ⎥\n",
       "                ⎦"
      ]
     },
     "execution_count": 8,
     "metadata": {},
     "output_type": "execute_result"
    }
   ],
   "source": [
    "Forces=[(G1,-m1*g*N.y),(G2,-m2*g*N.y)]\n",
    "#Forces=[(G1,-m*g*N.y),(G2,-m*g*N.y)]\n",
    "L=T-V\n",
    "LM = LagrangesMethod(L, [q1,q2], forcelist = Forces, nonhol_coneqs=[cons1], frame=N)\n",
    "#LM = LagrangesMethod(L, [q1,q2], forcelist = Forces,frame=N)\n",
    "LM.form_lagranges_equations()"
   ]
  },
  {
   "cell_type": "markdown",
   "id": "0b8ecb77",
   "metadata": {},
   "source": [
    "# Mass matrix and right hand side"
   ]
  },
  {
   "cell_type": "code",
   "execution_count": 9,
   "id": "d9689c18",
   "metadata": {},
   "outputs": [
    {
     "data": {
      "text/latex": [
       "$\\displaystyle \\left[\\begin{matrix}0.333333333333333 L_{1}^{2} m_{1} + 1.0 L_{1}^{2} m_{2} + 1.0 L_{1} L_{2} m_{2} \\cos{\\left(q_{2} \\right)} + 0.333333333333333 L_{2}^{2} m_{2} & L_{2} m_{2} \\cdot \\left(0.5 L_{1} \\cos{\\left(q_{2} \\right)} + 0.333333333333333 L_{2}\\right) & - L_{1} \\cos{\\left(q_{1} \\right)} - L_{2} \\cos{\\left(q_{1} + q_{2} \\right)}\\\\L_{2} m_{2} \\cdot \\left(0.5 L_{1} \\cos{\\left(q_{2} \\right)} + 0.333333333333333 L_{2}\\right) & 0.333333333333333 L_{2}^{2} m_{2} & - L_{2} \\cos{\\left(q_{1} + q_{2} \\right)}\\end{matrix}\\right]$"
      ],
      "text/plain": [
       "⎡                    2            2                                           \n",
       "⎢0.333333333333333⋅L₁ ⋅m₁ + 1.0⋅L₁ ⋅m₂ + 1.0⋅L₁⋅L₂⋅m₂⋅cos(q₂) + 0.333333333333\n",
       "⎢                                                                             \n",
       "⎢                                                                             \n",
       "⎣                     L₂⋅m₂⋅(0.5⋅L₁⋅cos(q₂) + 0.333333333333333⋅L₂)           \n",
       "\n",
       "      2                                                                       \n",
       "333⋅L₂ ⋅m₂  L₂⋅m₂⋅(0.5⋅L₁⋅cos(q₂) + 0.333333333333333⋅L₂)  -L₁⋅cos(q₁) - L₂⋅co\n",
       "                                                                              \n",
       "                                          2                                   \n",
       "                      0.333333333333333⋅L₂ ⋅m₂                   -L₂⋅cos(q₁ + \n",
       "\n",
       "          ⎤\n",
       "s(q₁ + q₂)⎥\n",
       "          ⎥\n",
       "          ⎥\n",
       "q₂)       ⎦"
      ]
     },
     "execution_count": 9,
     "metadata": {},
     "output_type": "execute_result"
    }
   ],
   "source": [
    "trigsimp(LM.mass_matrix)"
   ]
  },
  {
   "cell_type": "code",
   "execution_count": 10,
   "id": "9709785f",
   "metadata": {},
   "outputs": [
    {
     "data": {
      "text/latex": [
       "$\\displaystyle \\left[\\begin{matrix}0.5 L_{1} L_{2} m_{2} \\cdot \\left(2 \\dot{q}_{1} + \\dot{q}_{2}\\right) \\sin{\\left(q_{2} \\right)} \\dot{q}_{2} - \\frac{L_{1} g m_{1} \\cos{\\left(q_{1} \\right)}}{2} - L_{1} g m_{2} \\cos{\\left(q_{1} \\right)} - \\frac{L_{2} g m_{2} \\cos{\\left(q_{1} + q_{2} \\right)}}{2}\\\\- 0.5 L_{2} m_{2} \\left(L_{1} \\sin{\\left(q_{2} \\right)} \\dot{q}_{1}^{2} + g \\cos{\\left(q_{1} + q_{2} \\right)}\\right)\\end{matrix}\\right]$"
      ],
      "text/plain": [
       "⎡                                      L₁⋅g⋅m₁⋅cos(q₁)                     L₂⋅\n",
       "⎢0.5⋅L₁⋅L₂⋅m₂⋅(2⋅q₁̇ + q₂̇)⋅sin(q₂)⋅q₂̇ - ─────────────── - L₁⋅g⋅m₂⋅cos(q₁) - \n",
       "⎢                                             2                               \n",
       "⎢                                                                             \n",
       "⎢                                    ⎛             2                 ⎞        \n",
       "⎣                         -0.5⋅L₂⋅m₂⋅⎝L₁⋅sin(q₂)⋅q₁̇  + g⋅cos(q₁ + q₂)⎠       \n",
       "\n",
       "g⋅m₂⋅cos(q₁ + q₂)⎤\n",
       "────────────────────⎥\n",
       "      2          ⎥\n",
       "                 ⎥\n",
       "                 ⎥\n",
       "                  ⎦"
      ]
     },
     "execution_count": 10,
     "metadata": {},
     "output_type": "execute_result"
    }
   ],
   "source": [
    "trigsimp(LM.forcing)"
   ]
  },
  {
   "cell_type": "code",
   "execution_count": 11,
   "id": "26894b16",
   "metadata": {},
   "outputs": [
    {
     "data": {
      "image/png": "[encoded data removed]",
      "text/latex": [
       "$\\displaystyle 0$"
      ],
      "text/plain": [
       "0"
      ]
     },
     "execution_count": 11,
     "metadata": {},
     "output_type": "execute_result"
    }
   ],
   "source": [
    "V"
   ]
  },
  {
   "cell_type": "markdown",
   "id": "e25bf131",
   "metadata": {},
   "source": [
    "# State space equations - augmentated with constraint equations"
   ]
  },
  {
   "cell_type": "code",
   "execution_count": 12,
   "id": "9fbf32f8",
   "metadata": {},
   "outputs": [],
   "source": [
    "mm=LM.mass_matrix_full"
   ]
  },
  {
   "cell_type": "code",
   "execution_count": 13,
   "id": "46dd41dc",
   "metadata": {},
   "outputs": [],
   "source": [
    "ff=LM.forcing_full"
   ]
  },
  {
   "cell_type": "code",
   "execution_count": 14,
   "id": "17d98eef",
   "metadata": {},
   "outputs": [],
   "source": [
    "subs_dict={L1:1,L2:1,m1:36,m2:36,g:10,a1:1}\n",
    "mmq=mm.subs(subs_dict)\n",
    "forcingq=ff.subs(subs_dict)"
   ]
  },
  {
   "cell_type": "code",
   "execution_count": 15,
   "id": "d9daf7a3",
   "metadata": {},
   "outputs": [
    {
     "data": {
      "text/latex": [
       "$\\displaystyle \\left[\\begin{matrix}1 & 0 & 0 & 0 & 0\\\\0 & 1 & 0 & 0 & 0\\\\0 & 0 & 36.0 \\cos{\\left(q_{2} \\right)} + 60.0 & 18.0 \\cos{\\left(q_{2} \\right)} + 12.0 & - \\cos{\\left(q_{1} + q_{2} \\right)} - \\cos{\\left(q_{1} \\right)}\\\\0 & 0 & 18.0 \\cos{\\left(q_{2} \\right)} + 12.0 & 12.0 & - \\cos{\\left(q_{1} + q_{2} \\right)}\\\\0 & 0 & \\cos{\\left(q_{1} + q_{2} \\right)} + \\cos{\\left(q_{1} \\right)} & \\cos{\\left(q_{1} + q_{2} \\right)} & 0\\end{matrix}\\right]$"
      ],
      "text/plain": [
       "⎡1  0            0                      0                      0           ⎤\n",
       "⎢                                                                          ⎥\n",
       "⎢0  1            0                      0                      0           ⎥\n",
       "⎢                                                                          ⎥\n",
       "⎢0  0   36.0⋅cos(q₂) + 60.0    18.0⋅cos(q₂) + 12.0  -cos(q₁ + q₂) - cos(q₁)⎥\n",
       "⎢                                                                          ⎥\n",
       "⎢0  0   18.0⋅cos(q₂) + 12.0           12.0               -cos(q₁ + q₂)     ⎥\n",
       "⎢                                                                          ⎥\n",
       "⎣0  0  cos(q₁ + q₂) + cos(q₁)     cos(q₁ + q₂)                 0           ⎦"
      ]
     },
     "execution_count": 15,
     "metadata": {},
     "output_type": "execute_result"
    }
   ],
   "source": [
    "mmq"
   ]
  },
  {
   "cell_type": "code",
   "execution_count": 16,
   "id": "86c5771c",
   "metadata": {},
   "outputs": [
    {
     "data": {
      "text/latex": [
       "$\\displaystyle \\left[\\begin{matrix}\\dot{q}_{1}\\\\\\dot{q}_{2}\\\\18.0 \\left(\\dot{q}_{1} + \\dot{q}_{2}\\right) \\sin{\\left(q_{2} \\right)} \\dot{q}_{2} + 180 \\sin{\\left(q_{1} \\right)} \\sin{\\left(q_{2} \\right)} + 18.0 \\sin{\\left(q_{2} \\right)} \\dot{q}_{1} \\dot{q}_{2} - 180 \\cos{\\left(q_{1} \\right)} \\cos{\\left(q_{2} \\right)} - 540 \\cos{\\left(q_{1} \\right)}\\\\- 18.0 \\left(\\dot{q}_{1} + \\dot{q}_{2}\\right) \\sin{\\left(q_{2} \\right)} \\dot{q}_{1} + 180 \\sin{\\left(q_{1} \\right)} \\sin{\\left(q_{2} \\right)} + 18.0 \\sin{\\left(q_{2} \\right)} \\dot{q}_{1} \\dot{q}_{2} - 180 \\cos{\\left(q_{1} \\right)} \\cos{\\left(q_{2} \\right)}\\\\\\left(\\dot{q}_{1} + \\dot{q}_{2}\\right)^{2} \\sin{\\left(q_{1} + q_{2} \\right)} + \\sin{\\left(q_{1} \\right)} \\dot{q}_{1}^{2} + 2\\end{matrix}\\right]$"
      ],
      "text/plain": [
       "⎡                                                   q₁̇                       \n",
       "⎢                                                                             \n",
       "⎢                                                   q₂̇                       \n",
       "⎢                                                                             \n",
       "⎢18.0⋅(q₁̇ + q₂̇)⋅sin(q₂)⋅q₂̇ + 180⋅sin(q₁)⋅sin(q₂) + 18.0⋅sin(q₂)⋅q₁̇⋅q₂̇ - 1\n",
       "⎢                                                                             \n",
       "⎢      -18.0⋅(q₁̇ + q₂̇)⋅sin(q₂)⋅q₁̇ + 180⋅sin(q₁)⋅sin(q₂) + 18.0⋅sin(q₂)⋅q₁̇⋅\n",
       "⎢                                                                             \n",
       "⎢                                        2                          2         \n",
       "⎣                               (q₁̇ + q₂̇) ⋅sin(q₁ + q₂) + sin(q₁)⋅q₁̇  + 2  \n",
       "\n",
       "                            ⎤\n",
       "                           ⎥\n",
       "                            ⎥\n",
       "                           ⎥\n",
       "80⋅cos(q₁)⋅cos(q₂) - 540⋅cos(q₁)⎥\n",
       "                           ⎥\n",
       "q₂̇ - 180⋅cos(q₁)⋅cos(q₂)       ⎥\n",
       "                           ⎥\n",
       "                           ⎥\n",
       "                              ⎦"
      ]
     },
     "execution_count": 16,
     "metadata": {},
     "output_type": "execute_result"
    }
   ],
   "source": [
    "forcingq"
   ]
  },
  {
   "cell_type": "markdown",
   "id": "ec1d9ac8",
   "metadata": {},
   "source": [
    "# Procedure for computing numerical state space matrices"
   ]
  },
  {
   "cell_type": "code",
   "execution_count": 17,
   "id": "059b9bbb",
   "metadata": {},
   "outputs": [],
   "source": [
    "mmf=lambdify([q1,q2],mmq)\n",
    "forcingf=lambdify([q1,q2,u1,u2],forcingq)"
   ]
  },
  {
   "cell_type": "code",
   "execution_count": 18,
   "id": "1bc1ee15",
   "metadata": {},
   "outputs": [
    {
     "data": {
      "text/plain": [
       "array([[ 1.        ,  0.        ,  0.        ,  0.        ,  0.        ],\n",
       "       [ 0.        ,  1.        ,  0.        ,  0.        ,  0.        ],\n",
       "       [ 0.        ,  0.        , 79.45088301, 21.72544151, -0.12415547],\n",
       "       [ 0.        ,  0.        , 21.72544151, 12.        ,  0.41614684],\n",
       "       [ 0.        ,  0.        ,  0.12415547, -0.41614684,  0.        ]])"
      ]
     },
     "execution_count": 18,
     "metadata": {},
     "output_type": "execute_result"
    }
   ],
   "source": [
    "mmf(1,1)"
   ]
  },
  {
   "cell_type": "code",
   "execution_count": 19,
   "id": "46ad0aab",
   "metadata": {},
   "outputs": [
    {
     "data": {
      "text/plain": [
       "array([[   0.5       ],\n",
       "       [   0.5       ],\n",
       "       [-205.4969563 ],\n",
       "       [  71.11981115],\n",
       "       [   3.11966517]])"
      ]
     },
     "execution_count": 19,
     "metadata": {},
     "output_type": "execute_result"
    }
   ],
   "source": [
    "forcingf(1,1,0.5,0.5)"
   ]
  },
  {
   "cell_type": "markdown",
   "id": "f8b50ad2",
   "metadata": {},
   "source": [
    "# Computation of derivative of state vector for Runge Kutta method"
   ]
  },
  {
   "cell_type": "code",
   "execution_count": 20,
   "id": "7251f536",
   "metadata": {},
   "outputs": [],
   "source": [
    "def dydt(stv,t):\n",
    "    amat=mmf(stv[0],stv[1])\n",
    "    bvec=forcingf(stv[0],stv[1],stv[2],stv[3])\n",
    "    xvec=linalg.solve(amat,bvec)\n",
    "    return xvec.flatten()"
   ]
  },
  {
   "cell_type": "markdown",
   "id": "49dc34d3",
   "metadata": {},
   "source": [
    "# Initial condition and time steps"
   ]
  },
  {
   "cell_type": "code",
   "execution_count": 21,
   "id": "8bc90662",
   "metadata": {},
   "outputs": [],
   "source": [
    "stv_in=np.array([radians(70),radians(-140),0,0,0],dtype=float)\n",
    "nval=9; ts = np.linspace(0, 0.8, nval)"
   ]
  },
  {
   "cell_type": "markdown",
   "id": "63f530a9",
   "metadata": {},
   "source": [
    "# Runge Kutta method"
   ]
  },
  {
   "cell_type": "code",
   "execution_count": 22,
   "id": "5a177b87",
   "metadata": {},
   "outputs": [],
   "source": [
    "out=integrate.odeint(dydt,stv_in,ts)"
   ]
  },
  {
   "cell_type": "code",
   "execution_count": 23,
   "id": "4b94ca73",
   "metadata": {},
   "outputs": [],
   "source": [
    "out;"
   ]
  },
  {
   "cell_type": "code",
   "execution_count": 24,
   "id": "0743afcc",
   "metadata": {},
   "outputs": [],
   "source": [
    "qlist=[q1,q2]\n",
    "plist=[O,G1,P1,G2,P2]\n",
    "slist=out"
   ]
  },
  {
   "cell_type": "markdown",
   "id": "0d2f48a6",
   "metadata": {},
   "source": [
    "# Positions of important points at time steps"
   ]
  },
  {
   "cell_type": "code",
   "execution_count": 25,
   "id": "5894791b",
   "metadata": {},
   "outputs": [],
   "source": [
    "xvalt=np.array([],float)\n",
    "yvalt=np.array([],float)\n",
    "for ii in range(0,np.shape(slist)[0]):\n",
    "    xval=np.array([],float)\n",
    "    yval=np.array([],float)\n",
    "    for pdum in plist:\n",
    "        #print(pdum)\n",
    "        posv=pdum.pos_from(O).subs(subs_dict)\n",
    "        #print(posv)\n",
    "        for i in range(0,len(qlist)):\n",
    "            posv=posv.express(N).subs({qlist[i]:slist[ii,i]})\n",
    "        posvx=dot(posv,N.x).evalf()\n",
    "        posvy=dot(posv,N.y).evalf()\n",
    "        #print(posvx)\n",
    "        xval=np.append(xval,posvx)\n",
    "        yval=np.append(yval,posvy)\n",
    "    xvalt=np.append(xvalt,xval)\n",
    "    yvalt=np.append(yvalt,yval)\n",
    "xvalt=np.reshape(xvalt,(len(slist),len(plist)))\n",
    "yvalt=np.reshape(yvalt,(len(slist),len(plist)))\n",
    "val=np.block([xvalt,yvalt])"
   ]
  },
  {
   "cell_type": "code",
   "execution_count": 26,
   "id": "5e3b06c5",
   "metadata": {},
   "outputs": [
    {
     "data": {
      "text/plain": [
       "array([0. , 0.1, 0.2, 0.3, 0.4, 0.5, 0.6, 0.7, 0.8])"
      ]
     },
     "execution_count": 26,
     "metadata": {},
     "output_type": "execute_result"
    }
   ],
   "source": [
    "ts\n",
    "np.reshape(ts,(9,1))\n",
    "ts"
   ]
  },
  {
   "cell_type": "code",
   "execution_count": 27,
   "id": "0fccaeb5",
   "metadata": {},
   "outputs": [],
   "source": [
    "val[:,5];"
   ]
  },
  {
   "cell_type": "code",
   "execution_count": 28,
   "id": "c1b8dfd4",
   "metadata": {},
   "outputs": [],
   "source": [
    "np.savetxt('pos.txt',val)"
   ]
  },
  {
   "cell_type": "markdown",
   "id": "dcbfdc98",
   "metadata": {},
   "source": [
    "# State vector derivatives at time steps"
   ]
  },
  {
   "cell_type": "code",
   "execution_count": 29,
   "id": "4c5da723",
   "metadata": {},
   "outputs": [],
   "source": [
    "stv_deriv=np.array([],float)\n",
    "for ii in range(0,np.shape(slist)[0]):\n",
    "    amat=mmf(slist[ii,0],slist[ii,1])\n",
    "    bvec=forcingf(slist[ii,0],slist[ii,1],slist[ii,2],slist[ii,3])\n",
    "    xvec=linalg.solve(amat,bvec)\n",
    "    stv_deriv=np.append(stv_deriv,xvec)\n",
    "stv_deriv=np.reshape(stv_deriv,(len(slist),np.shape(slist)[1]))"
   ]
  },
  {
   "cell_type": "code",
   "execution_count": 30,
   "id": "cdca3bd2",
   "metadata": {},
   "outputs": [],
   "source": [
    "stv_deriv;"
   ]
  },
  {
   "cell_type": "code",
   "execution_count": 31,
   "id": "c569c879",
   "metadata": {},
   "outputs": [],
   "source": [
    "np.savetxt('stv_deriv.txt',stv_deriv)"
   ]
  },
  {
   "cell_type": "markdown",
   "id": "10d6e380",
   "metadata": {},
   "source": [
    "# Centre of mass accelerations at time steps"
   ]
  },
  {
   "cell_type": "code",
   "execution_count": 32,
   "id": "5291dd8f",
   "metadata": {},
   "outputs": [],
   "source": [
    "P1.a2pt_theory(O,N,B1)\n",
    "G1.a2pt_theory(O,N,B1)\n",
    "G2.a2pt_theory(P1,N,B2);"
   ]
  },
  {
   "cell_type": "code",
   "execution_count": 33,
   "id": "8b27ee43",
   "metadata": {},
   "outputs": [],
   "source": [
    "cmlist=[G1,G2]\n",
    "qlist=[q1,q2]\n",
    "qdlist=[u1,u2,u1d,u2d]"
   ]
  },
  {
   "cell_type": "code",
   "execution_count": 34,
   "id": "36fee467",
   "metadata": {},
   "outputs": [],
   "source": [
    "axvalt=np.array([],float)\n",
    "ayvalt=np.array([],float)\n",
    "for ii in range(0,np.shape(slist)[0]):\n",
    "    axval=np.array([],float)\n",
    "    ayval=np.array([],float)\n",
    "    qdict=subs_dict\n",
    "    for i in range(0,len(qlist)):\n",
    "        qdict.update({qlist[i]:slist[ii,i]})\n",
    "    for i in range(0,len(qdlist)):\n",
    "        qdict.update({qdlist[i]:stv_deriv[ii,i]})        \n",
    "    for cmdum in cmlist:\n",
    "        #print(cmdum)\n",
    "        accv=cmdum.acc(N).express(N).subs(qdict)\n",
    "        #print(accv)\n",
    "        accvx=dot(accv,N.x).evalf()\n",
    "        accvy=dot(accv,N.y).evalf()\n",
    "        axval=np.append(axval,accvx)\n",
    "        ayval=np.append(ayval,accvy)\n",
    "    axvalt=np.append(axvalt,axval)\n",
    "    ayvalt=np.append(ayvalt,ayval)\n",
    "axvalt=np.reshape(axvalt,(len(slist),len(cmlist)))\n",
    "ayvalt=np.reshape(ayvalt,(len(slist),len(cmlist)))\n",
    "aval=np.block([axvalt,ayvalt])"
   ]
  },
  {
   "cell_type": "code",
   "execution_count": 35,
   "id": "132d94f0",
   "metadata": {},
   "outputs": [],
   "source": [
    "aval;"
   ]
  },
  {
   "cell_type": "code",
   "execution_count": 36,
   "id": "315588d7",
   "metadata": {},
   "outputs": [],
   "source": [
    "np.savetxt('lin_acc.txt',aval)"
   ]
  },
  {
   "cell_type": "markdown",
   "id": "5bb6fad4",
   "metadata": {},
   "source": [
    "# Angular velocity of links at time steps"
   ]
  },
  {
   "cell_type": "code",
   "execution_count": 37,
   "id": "99323de2",
   "metadata": {},
   "outputs": [
    {
     "data": {
      "image/png": "[encoded data removed]",
      "text/latex": [
       "$\\displaystyle (\\ddot{q}_{1} + \\ddot{q}_{2})\\mathbf{\\hat{n}_z}$"
      ],
      "text/plain": [
       "(q₁̈ + q₂̈) n_z"
      ]
     },
     "execution_count": 37,
     "metadata": {},
     "output_type": "execute_result"
    }
   ],
   "source": [
    "B2.ang_acc_in(N)"
   ]
  },
  {
   "cell_type": "code",
   "execution_count": 38,
   "id": "cbb0707d",
   "metadata": {},
   "outputs": [],
   "source": [
    "bdlist=[B1,B2]\n",
    "qdlist=[u1,u2,u1d,u2d]"
   ]
  },
  {
   "cell_type": "code",
   "execution_count": 39,
   "id": "30585020",
   "metadata": {},
   "outputs": [],
   "source": [
    "angavalt=np.array([],float)\n",
    "for ii in range(0,np.shape(slist)[0]):\n",
    "    angaval=np.array([],float)\n",
    "    qdict={}\n",
    "    for i in range(0,len(qdlist)):\n",
    "        qdict.update({qdlist[i]:stv_deriv[ii,i]})        \n",
    "    for bddum in bdlist:\n",
    "        angav=bddum.ang_acc_in(N).subs(qdict)\n",
    "        angavz=dot(angav,N.z).evalf()\n",
    "        angaval=np.append(angaval,angavz)\n",
    "    angavalt=np.append(angavalt,angaval)\n",
    "angavalt=np.reshape(angavalt,(len(slist),len(bdlist)))"
   ]
  },
  {
   "cell_type": "code",
   "execution_count": 42,
   "id": "333d9af3",
   "metadata": {},
   "outputs": [],
   "source": [
    "angavalt;"
   ]
  },
  {
   "cell_type": "code",
   "execution_count": 41,
   "id": "693109ec",
   "metadata": {},
   "outputs": [],
   "source": [
    "np.savetxt('ang_acc.txt',angavalt)"
   ]
  }
 ],
 "metadata": {
  "kernelspec": {
   "display_name": "Python 3 (ipykernel)",
   "language": "python",
   "name": "python3"
  },
  "language_info": {
   "codemirror_mode": {
    "name": "ipython",
    "version": 3
   },
   "file_extension": ".py",
   "mimetype": "text/x-python",
   "name": "python",
   "nbconvert_exporter": "python",
   "pygments_lexer": "ipython3",
   "version": "3.10.11"
  }
 },
 "nbformat": 4,
 "nbformat_minor": 5
}
