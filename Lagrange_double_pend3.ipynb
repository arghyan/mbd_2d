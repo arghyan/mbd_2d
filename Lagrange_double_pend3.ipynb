{
 "cells": [
  {
   "cell_type": "markdown",
   "id": "91054175",
   "metadata": {},
   "source": [
    "# Importing modules from sympy, math, numpy, scipy & matplotlib"
   ]
  },
  {
   "cell_type": "code",
   "execution_count": 106,
   "id": "5e8a0850",
   "metadata": {},
   "outputs": [],
   "source": [
    "from sympy.physics.mechanics import *\n",
    "from sympy import trigsimp,symbols,lambdify, sin,cos\n",
    "from sympy.physics.vector import init_vprinting\n",
    "from math import radians,degrees,pi\n",
    "import numpy as np\n",
    "from scipy import linalg, integrate\n",
    "from matplotlib import pyplot as plt\n",
    "init_vprinting()"
   ]
  },
  {
   "cell_type": "markdown",
   "id": "450f50a7",
   "metadata": {},
   "source": [
    "# Generalized coordinates, generalized velocities & symbolic variables"
   ]
  },
  {
   "cell_type": "code",
   "execution_count": 107,
   "id": "70fc5679",
   "metadata": {},
   "outputs": [],
   "source": [
    "q1, q2 = dynamicsymbols('q1 q2')\n",
    "u1, u2 = dynamicsymbols('q1 q2', 1)\n",
    "m1,m2,L1,L2,g = symbols('m1 m2 L1 L2,g')"
   ]
  },
  {
   "cell_type": "markdown",
   "id": "8a6e964a",
   "metadata": {},
   "source": [
    "# Defining reference frames"
   ]
  },
  {
   "cell_type": "code",
   "execution_count": 108,
   "id": "1dbc02d5",
   "metadata": {},
   "outputs": [],
   "source": [
    "N = ReferenceFrame('N')     #Inertial reference frame\n",
    "A = N.orientnew('A', 'Axis', [q1, N.z]) # Frame rotating with first pendulum\n",
    "B = N.orientnew('B', 'Axis', [q2, N.z]) # Frame rotating with second pendulum"
   ]
  },
  {
   "cell_type": "markdown",
   "id": "b6e09f4b",
   "metadata": {},
   "source": [
    "# Assigning angular velocities to reference frames"
   ]
  },
  {
   "cell_type": "code",
   "execution_count": 109,
   "id": "d5a4190b",
   "metadata": {},
   "outputs": [],
   "source": [
    "omega_1 = u1\n",
    "omega_2 = u2\n",
    "A.set_ang_vel(N, omega_1 * N.z) \n",
    "B.set_ang_vel(N, omega_2 * N.z)"
   ]
  },
  {
   "cell_type": "markdown",
   "id": "8062f757",
   "metadata": {},
   "source": [
    "# Locations of point masses"
   ]
  },
  {
   "cell_type": "code",
   "execution_count": 110,
   "id": "e38e26ad",
   "metadata": {},
   "outputs": [],
   "source": [
    "O = Point('O') #Origin in Inertial Reference Frame\n",
    "P1 = O.locatenew('P', L1 * A.x)  #Point of contact of first & 2nd pendulum\n",
    "P2 = P1.locatenew('P2', L2 * B.x) #2nd pendulum"
   ]
  },
  {
   "cell_type": "markdown",
   "id": "00f5bb78",
   "metadata": {},
   "source": [
    "# Computing velocities of point masses"
   ]
  },
  {
   "cell_type": "code",
   "execution_count": 111,
   "id": "9ddc4d6a",
   "metadata": {},
   "outputs": [],
   "source": [
    "O.set_vel(N, 0)\n",
    "P1.v2pt_theory(O,N,A)\n",
    "P2.v2pt_theory(P2,N,B)\n",
    "v1=P1.vel(N)\n",
    "v2=P2.vel(N)"
   ]
  },
  {
   "cell_type": "code",
   "execution_count": 112,
   "id": "9a9a68ba",
   "metadata": {},
   "outputs": [
    {
     "data": {
      "image/png": "[encoded data removed]",
      "text/latex": [
       "$\\displaystyle L_{1} \\dot{q}_{1}\\mathbf{\\hat{a}_y}$"
      ],
      "text/plain": [
       "L₁⋅q₁̇ a_y"
      ]
     },
     "execution_count": 112,
     "metadata": {},
     "output_type": "execute_result"
    }
   ],
   "source": [
    "v1"
   ]
  },
  {
   "cell_type": "code",
   "execution_count": 113,
   "id": "497e863b",
   "metadata": {},
   "outputs": [
    {
     "data": {
      "image/png": "[encoded data removed]",
      "text/latex": [
       "$\\displaystyle L_{2} \\dot{q}_{2}\\mathbf{\\hat{b}_y} + L_{1} \\dot{q}_{1}\\mathbf{\\hat{a}_y}$"
      ],
      "text/plain": [
       "L₂⋅q₂̇ b_y + L₁⋅q₁̇ a_y"
      ]
     },
     "execution_count": 113,
     "metadata": {},
     "output_type": "execute_result"
    }
   ],
   "source": [
    "v2"
   ]
  },
  {
   "cell_type": "markdown",
   "id": "c5b8de36",
   "metadata": {},
   "source": [
    "# Potential Energy - From lowest point datum"
   ]
  },
  {
   "cell_type": "code",
   "execution_count": 114,
   "id": "d1b45763",
   "metadata": {},
   "outputs": [
    {
     "data": {
      "image/png": "[encoded data removed]",
      "text/latex": [
       "$\\displaystyle L_{1} g m_{1} \\cdot \\left(1 - \\cos{\\left(q_{1} \\right)}\\right) + g m_{2} \\left(L_{1} \\cdot \\left(1 - \\cos{\\left(q_{1} \\right)}\\right) + L_{2} \\cdot \\left(1 - \\cos{\\left(q_{2} \\right)}\\right)\\right)$"
      ],
      "text/plain": [
       "L₁⋅g⋅m₁⋅(1 - cos(q₁)) + g⋅m₂⋅(L₁⋅(1 - cos(q₁)) + L₂⋅(1 - cos(q₂)))"
      ]
     },
     "execution_count": 114,
     "metadata": {},
     "output_type": "execute_result"
    }
   ],
   "source": [
    "V1=m1*g*L1*(1-cos(q1))\n",
    "V2=m2*g*(L1*(1-cos(q1))+L2*(1-cos(q2)))\n",
    "V = V1 + V2\n",
    "V"
   ]
  },
  {
   "cell_type": "markdown",
   "id": "70a6007e",
   "metadata": {},
   "source": [
    "# Kinetic Energy"
   ]
  },
  {
   "cell_type": "code",
   "execution_count": 115,
   "id": "b2cc19a0",
   "metadata": {},
   "outputs": [
    {
     "data": {
      "image/png": "[encoded data removed]",
      "text/latex": [
       "$\\displaystyle 0.5 L_{1}^{2} m_{1} \\dot{q}_{1}^{2} + 0.5 m_{2} \\left(L_{1}^{2} \\dot{q}_{1}^{2} + 2 L_{1} L_{2} \\left(\\sin{\\left(q_{1} \\right)} \\sin{\\left(q_{2} \\right)} + \\cos{\\left(q_{1} \\right)} \\cos{\\left(q_{2} \\right)}\\right) \\dot{q}_{1} \\dot{q}_{2} + L_{2}^{2} \\dot{q}_{2}^{2}\\right)$"
      ],
      "text/plain": [
       "      2      2          ⎛  2   2                                              \n",
       "0.5⋅L₁ ⋅m₁⋅q₁̇  + 0.5⋅m₂⋅⎝L₁ ⋅q₁̇  + 2⋅L₁⋅L₂⋅(sin(q₁)⋅sin(q₂) + cos(q₁)⋅cos(q₂\n",
       "\n",
       "           2   2⎞\n",
       "))⋅q₁̇⋅q₂̇ + L₂ ⋅q₂̇ ⎠"
      ]
     },
     "execution_count": 115,
     "metadata": {},
     "output_type": "execute_result"
    }
   ],
   "source": [
    "T = (1/2)*m1*dot(v1,v1) + (1/2)*m2*dot(v2,v2)\n",
    "T"
   ]
  },
  {
   "cell_type": "markdown",
   "id": "76338afe",
   "metadata": {},
   "source": [
    "# Lagrangian"
   ]
  },
  {
   "cell_type": "code",
   "execution_count": 116,
   "id": "97bdb99c",
   "metadata": {},
   "outputs": [],
   "source": [
    "L=T-V\n",
    "LM = LagrangesMethod(L, [q1, q2])"
   ]
  },
  {
   "cell_type": "markdown",
   "id": "7d8a7470",
   "metadata": {},
   "source": [
    "# Lagrange's equations, mass matrix anf forcing function"
   ]
  },
  {
   "cell_type": "code",
   "execution_count": 117,
   "id": "8d06b4ce",
   "metadata": {},
   "outputs": [],
   "source": [
    "eqns = LM.form_lagranges_equations()"
   ]
  },
  {
   "cell_type": "code",
   "execution_count": 118,
   "id": "1e37edf3",
   "metadata": {},
   "outputs": [
    {
     "data": {
      "text/latex": [
       "$\\displaystyle \\left[\\begin{matrix}1.0 L_{1}^{2} m_{1} + 1.0 L_{1}^{2} m_{2} & 1.0 L_{1} L_{2} m_{2} \\cos{\\left(q_{1} - q_{2} \\right)}\\\\1.0 L_{1} L_{2} m_{2} \\cos{\\left(q_{1} - q_{2} \\right)} & 1.0 L_{2}^{2} m_{2}\\end{matrix}\\right]$"
      ],
      "text/plain": [
       "⎡       2            2                               ⎤\n",
       "⎢ 1.0⋅L₁ ⋅m₁ + 1.0⋅L₁ ⋅m₂   1.0⋅L₁⋅L₂⋅m₂⋅cos(q₁ - q₂)⎥\n",
       "⎢                                                    ⎥\n",
       "⎢                                        2           ⎥\n",
       "⎣1.0⋅L₁⋅L₂⋅m₂⋅cos(q₁ - q₂)         1.0⋅L₂ ⋅m₂        ⎦"
      ]
     },
     "execution_count": 118,
     "metadata": {},
     "output_type": "execute_result"
    }
   ],
   "source": [
    "trigsimp(LM.mass_matrix)"
   ]
  },
  {
   "cell_type": "code",
   "execution_count": 119,
   "id": "94a5e8e1",
   "metadata": {},
   "outputs": [
    {
     "data": {
      "text/latex": [
       "$\\displaystyle \\left[\\begin{matrix}- 1.0 L_{1} \\left(L_{2} m_{2} \\sin{\\left(q_{1} - q_{2} \\right)} \\dot{q}_{2}^{2} + g m_{1} \\sin{\\left(q_{1} \\right)} + g m_{2} \\sin{\\left(q_{1} \\right)}\\right)\\\\1.0 L_{2} m_{2} \\left(L_{1} \\sin{\\left(q_{1} - q_{2} \\right)} \\dot{q}_{1}^{2} - g \\sin{\\left(q_{2} \\right)}\\right)\\end{matrix}\\right]$"
      ],
      "text/plain": [
       "⎡        ⎛                     2                              ⎞⎤\n",
       "⎢-1.0⋅L₁⋅⎝L₂⋅m₂⋅sin(q₁ - q₂)⋅q₂̇  + g⋅m₁⋅sin(q₁) + g⋅m₂⋅sin(q₁)⎠⎥\n",
       "⎢                                                              ⎥\n",
       "⎢                   ⎛                  2            ⎞          ⎥\n",
       "⎣         1.0⋅L₂⋅m₂⋅⎝L₁⋅sin(q₁ - q₂)⋅q₁̇  - g⋅sin(q₂)⎠          ⎦"
      ]
     },
     "execution_count": 119,
     "metadata": {},
     "output_type": "execute_result"
    }
   ],
   "source": [
    "trigsimp(LM.forcing)"
   ]
  },
  {
   "cell_type": "markdown",
   "id": "37e5c2e8",
   "metadata": {},
   "source": [
    "# State vector representation"
   ]
  },
  {
   "cell_type": "code",
   "execution_count": 120,
   "id": "eb887afa",
   "metadata": {},
   "outputs": [],
   "source": [
    "mm=trigsimp(LM.mass_matrix_full)"
   ]
  },
  {
   "cell_type": "code",
   "execution_count": 121,
   "id": "ab92ac6f",
   "metadata": {},
   "outputs": [],
   "source": [
    "ff=trigsimp(LM.forcing_full)"
   ]
  },
  {
   "cell_type": "markdown",
   "id": "cadce041",
   "metadata": {},
   "source": [
    "# Substitution for mass and length"
   ]
  },
  {
   "cell_type": "code",
   "execution_count": 122,
   "id": "a9d233a4",
   "metadata": {},
   "outputs": [],
   "source": [
    "mmq=mm.subs({L1:0.5,L2:0.5,m1:1,m2:1})\n",
    "forcingq=ff.subs({L1:0.5,L2:0.5,m1:1,m2:1,g:10})"
   ]
  },
  {
   "cell_type": "code",
   "execution_count": 123,
   "id": "7eec16bb",
   "metadata": {},
   "outputs": [
    {
     "data": {
      "text/latex": [
       "$\\displaystyle \\left[\\begin{matrix}1 & 0 & 0 & 0\\\\0 & 1 & 0 & 0\\\\0 & 0 & 0.5 & 0.25 \\cos{\\left(q_{1} - q_{2} \\right)}\\\\0 & 0 & 0.25 \\cos{\\left(q_{1} - q_{2} \\right)} & 0.25\\end{matrix}\\right]$"
      ],
      "text/plain": [
       "⎡1  0          0                  0        ⎤\n",
       "⎢                                          ⎥\n",
       "⎢0  1          0                  0        ⎥\n",
       "⎢                                          ⎥\n",
       "⎢0  0         0.5         0.25⋅cos(q₁ - q₂)⎥\n",
       "⎢                                          ⎥\n",
       "⎣0  0  0.25⋅cos(q₁ - q₂)        0.25       ⎦"
      ]
     },
     "execution_count": 123,
     "metadata": {},
     "output_type": "execute_result"
    }
   ],
   "source": [
    "mmq"
   ]
  },
  {
   "cell_type": "code",
   "execution_count": 124,
   "id": "61fb9972",
   "metadata": {},
   "outputs": [
    {
     "data": {
      "text/latex": [
       "$\\displaystyle \\left[\\begin{matrix}\\dot{q}_{1}\\\\\\dot{q}_{2}\\\\- 0.25 \\sin{\\left(q_{1} - q_{2} \\right)} \\dot{q}_{2}^{2} - 10.0 \\sin{\\left(q_{1} \\right)}\\\\0.25 \\sin{\\left(q_{1} - q_{2} \\right)} \\dot{q}_{1}^{2} - 5.0 \\sin{\\left(q_{2} \\right)}\\end{matrix}\\right]$"
      ],
      "text/plain": [
       "⎡                  q₁̇                  ⎤\n",
       "⎢                                      ⎥\n",
       "⎢                  q₂̇                  ⎥\n",
       "⎢                                      ⎥\n",
       "⎢                      2               ⎥\n",
       "⎢- 0.25⋅sin(q₁ - q₂)⋅q₂̇  - 10.0⋅sin(q₁)⎥\n",
       "⎢                                      ⎥\n",
       "⎢                     2                ⎥\n",
       "⎣ 0.25⋅sin(q₁ - q₂)⋅q₁̇  - 5.0⋅sin(q₂)  ⎦"
      ]
     },
     "execution_count": 124,
     "metadata": {},
     "output_type": "execute_result"
    }
   ],
   "source": [
    "forcingq"
   ]
  },
  {
   "cell_type": "markdown",
   "id": "2024669b",
   "metadata": {},
   "source": [
    "# Sympy to numpy function using lambdify function of sympy"
   ]
  },
  {
   "cell_type": "code",
   "execution_count": 125,
   "id": "7c898144",
   "metadata": {},
   "outputs": [],
   "source": [
    "mmf=lambdify([q1,q2],mmq)\n",
    "forcingf=lambdify([q1,q2,u1,u2],forcingq)"
   ]
  },
  {
   "cell_type": "markdown",
   "id": "3b2230b0",
   "metadata": {},
   "source": [
    "### Output for checking"
   ]
  },
  {
   "cell_type": "code",
   "execution_count": 126,
   "id": "c522b151",
   "metadata": {},
   "outputs": [
    {
     "data": {
      "text/plain": [
       "array([[1.        , 0.        , 0.        , 0.        ],\n",
       "       [0.        , 1.        , 0.        , 0.        ],\n",
       "       [0.        , 0.        , 0.5       , 0.21939564],\n",
       "       [0.        , 0.        , 0.21939564, 0.25      ]])"
      ]
     },
     "execution_count": 126,
     "metadata": {},
     "output_type": "execute_result"
    }
   ],
   "source": [
    "forcingf(2,1.5,3,4)\n",
    "mmf(2,1.5)"
   ]
  },
  {
   "cell_type": "markdown",
   "id": "8cc2e713",
   "metadata": {},
   "source": [
    "# State vector"
   ]
  },
  {
   "cell_type": "code",
   "execution_count": 127,
   "id": "27a03738",
   "metadata": {},
   "outputs": [],
   "source": [
    "stv=[q1,q2,u1,u2]"
   ]
  },
  {
   "cell_type": "markdown",
   "id": "986aa608",
   "metadata": {},
   "source": [
    "# Function to compute derivative of state vector"
   ]
  },
  {
   "cell_type": "code",
   "execution_count": 128,
   "id": "95c5ab17",
   "metadata": {},
   "outputs": [],
   "source": [
    "def dydt(stv,t):\n",
    "    amat=mmf(stv[0],stv[1])\n",
    "    bvec=forcingf(stv[0],stv[1],stv[2],stv[3])\n",
    "    xvec=linalg.solve(amat,bvec)\n",
    "    return xvec.flatten()"
   ]
  },
  {
   "cell_type": "markdown",
   "id": "5f14c4c5",
   "metadata": {},
   "source": [
    "### Output of function dydt is a single dimension array"
   ]
  },
  {
   "cell_type": "code",
   "execution_count": 129,
   "id": "e5494531",
   "metadata": {},
   "outputs": [
    {
     "data": {
      "image/png": "[encoded data removed]",
      "text/latex": [
       "$\\displaystyle \\left( 4,\\right)$"
      ],
      "text/plain": [
       "(4,)"
      ]
     },
     "execution_count": 129,
     "metadata": {},
     "output_type": "execute_result"
    }
   ],
   "source": [
    "np.shape(dydt([radians(30),radians(60),0,0],0))"
   ]
  },
  {
   "cell_type": "markdown",
   "id": "1285a972",
   "metadata": {},
   "source": [
    "# ODE solver"
   ]
  },
  {
   "cell_type": "markdown",
   "id": "9cf71776",
   "metadata": {},
   "source": [
    "### Initial condition and output points"
   ]
  },
  {
   "cell_type": "code",
   "execution_count": 130,
   "id": "95d8712c",
   "metadata": {},
   "outputs": [],
   "source": [
    "stv_in=np.array([radians(4),radians(0),0,0],dtype=float)\n",
    "ts = np.linspace(0, 2, 100)"
   ]
  },
  {
   "cell_type": "code",
   "execution_count": 131,
   "id": "b6860092",
   "metadata": {},
   "outputs": [],
   "source": [
    "out=integrate.odeint(dydt,stv_in,ts);"
   ]
  },
  {
   "cell_type": "code",
   "execution_count": 132,
   "id": "c4ea5b30",
   "metadata": {},
   "outputs": [],
   "source": [
    "#out[:,0]"
   ]
  },
  {
   "cell_type": "code",
   "execution_count": 133,
   "id": "2efc1165",
   "metadata": {},
   "outputs": [],
   "source": [
    "#out[:,1]"
   ]
  },
  {
   "cell_type": "markdown",
   "id": "0b002ec7",
   "metadata": {},
   "source": [
    "# Plotting using Matplotlib"
   ]
  },
  {
   "cell_type": "code",
   "execution_count": 134,
   "id": "86f16446",
   "metadata": {},
   "outputs": [
    {
     "data": {
      "image/png": "[encoded data removed]",
      "text/plain": [
       "<Figure size 432x288 with 1 Axes>"
      ]
     },
     "metadata": {
      "needs_background": "light"
     },
     "output_type": "display_data"
    }
   ],
   "source": [
    "plt.plot(ts,out[:,0]*180/pi)\n",
    "plt.plot(ts,out[:,1]*180/pi)\n",
    "plt.show()"
   ]
  },
  {
   "cell_type": "markdown",
   "id": "a7ee9c5e",
   "metadata": {},
   "source": [
    "### Same equations are integrated using ode45 of octave for verification. "
   ]
  },
  {
   "cell_type": "code",
   "execution_count": null,
   "id": "bf4d95b1",
   "metadata": {},
   "outputs": [],
   "source": []
  }
 ],
 "metadata": {
  "kernelspec": {
   "display_name": "Python 3 (ipykernel)",
   "language": "python",
   "name": "python3"
  },
  "language_info": {
   "codemirror_mode": {
    "name": "ipython",
    "version": 3
   },
   "file_extension": ".py",
   "mimetype": "text/x-python",
   "name": "python",
   "nbconvert_exporter": "python",
   "pygments_lexer": "ipython3",
   "version": "3.9.12"
  }
 },
 "nbformat": 4,
 "nbformat_minor": 5
}
