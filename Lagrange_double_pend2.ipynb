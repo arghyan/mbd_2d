{
 "cells": [
  {
   "cell_type": "code",
   "execution_count": 18,
   "id": "5e8a0850",
   "metadata": {},
   "outputs": [],
   "source": [
    "from sympy.physics.mechanics import *\n",
    "from sympy import trigsimp,symbols\n",
    "from sympy.physics.vector import init_vprinting\n",
    "from sympy import sin,cos\n",
    "init_vprinting()"
   ]
  },
  {
   "cell_type": "code",
   "execution_count": 19,
   "id": "70fc5679",
   "metadata": {},
   "outputs": [],
   "source": [
    "q1, q2 = dynamicsymbols('q1 q2')\n",
    "u1, u2 = dynamicsymbols('q1 q2', 1)\n",
    "m1,m2,L1,L2,g = symbols('m1 m2 L1 L2,g')"
   ]
  },
  {
   "cell_type": "code",
   "execution_count": 20,
   "id": "1dbc02d5",
   "metadata": {},
   "outputs": [],
   "source": [
    "N = ReferenceFrame('N')     #Inertial reference frame\n",
    "A = N.orientnew('A', 'Axis', [q1, N.z]) # Frame rotating with first pendulum\n",
    "B = A.orientnew('B', 'Axis', [q2, N.z]) # Frame rotating with second pendulum"
   ]
  },
  {
   "cell_type": "code",
   "execution_count": 21,
   "id": "b1136dd0",
   "metadata": {},
   "outputs": [],
   "source": [
    "omega_1 = u1\n",
    "omega_2 = u1+u2"
   ]
  },
  {
   "cell_type": "code",
   "execution_count": 22,
   "id": "d5a4190b",
   "metadata": {},
   "outputs": [],
   "source": [
    "A.set_ang_vel(N, omega_1 * N.z) \n",
    "B.set_ang_vel(N, omega_2 * N.z)"
   ]
  },
  {
   "cell_type": "code",
   "execution_count": 23,
   "id": "e38e26ad",
   "metadata": {},
   "outputs": [],
   "source": [
    "O = Point('O') #Origin in Inertial Reference Frame\n",
    "P1 = O.locatenew('P', L1 * A.x)  #Point of contact of first & 2nd pendulum\n",
    "P2 = P1.locatenew('P2', L2 * B.x) #2nd pendulum"
   ]
  },
  {
   "cell_type": "code",
   "execution_count": 24,
   "id": "9ddc4d6a",
   "metadata": {},
   "outputs": [],
   "source": [
    "O.set_vel(N, 0)\n",
    "P1.v2pt_theory(O,N,A)\n",
    "P2.v2pt_theory(P2,N,B)\n",
    "v1=P1.vel(N)\n",
    "v2=P2.vel(N)"
   ]
  },
  {
   "cell_type": "code",
   "execution_count": 25,
   "id": "9a9a68ba",
   "metadata": {},
   "outputs": [
    {
     "data": {
      "image/png": "[encoded data removed]",
      "text/latex": [
       "$\\displaystyle L_{1} \\dot{q}_{1}\\mathbf{\\hat{a}_y}$"
      ],
      "text/plain": [
       "L₁⋅q₁̇ a_y"
      ]
     },
     "execution_count": 25,
     "metadata": {},
     "output_type": "execute_result"
    }
   ],
   "source": [
    "v1"
   ]
  },
  {
   "cell_type": "code",
   "execution_count": 26,
   "id": "497e863b",
   "metadata": {},
   "outputs": [
    {
     "data": {
      "image/png": "[encoded data removed]",
      "text/latex": [
       "$\\displaystyle L_{2} \\left(\\dot{q}_{1} + \\dot{q}_{2}\\right)\\mathbf{\\hat{b}_y} + L_{1} \\dot{q}_{1}\\mathbf{\\hat{a}_y}$"
      ],
      "text/plain": [
       "L₂⋅(q₁̇ + q₂̇) b_y + L₁⋅q₁̇ a_y"
      ]
     },
     "execution_count": 26,
     "metadata": {},
     "output_type": "execute_result"
    }
   ],
   "source": [
    "v2"
   ]
  },
  {
   "cell_type": "code",
   "execution_count": 27,
   "id": "d1b45763",
   "metadata": {},
   "outputs": [
    {
     "data": {
      "image/png": "[encoded data removed]",
      "text/latex": [
       "$\\displaystyle L_{1} g m_{1} \\cdot \\left(1 - \\cos{\\left(q_{1} \\right)}\\right) + g m_{2} \\left(L_{1} \\cdot \\left(1 - \\cos{\\left(q_{1} \\right)}\\right) + L_{2} \\cdot \\left(1 - \\cos{\\left(q_{1} + q_{2} \\right)}\\right)\\right)$"
      ],
      "text/plain": [
       "L₁⋅g⋅m₁⋅(1 - cos(q₁)) + g⋅m₂⋅(L₁⋅(1 - cos(q₁)) + L₂⋅(1 - cos(q₁ + q₂)))"
      ]
     },
     "execution_count": 27,
     "metadata": {},
     "output_type": "execute_result"
    }
   ],
   "source": [
    "V1=m1*g*L1*(1-cos(q1))\n",
    "V2=m2*g*(L1*(1-cos(q1))+L2*(1-cos(q1+q2)))\n",
    "V = V1 + V2\n",
    "V"
   ]
  },
  {
   "cell_type": "code",
   "execution_count": 28,
   "id": "b2cc19a0",
   "metadata": {},
   "outputs": [
    {
     "data": {
      "image/png": "[encoded data removed]",
      "text/latex": [
       "$\\displaystyle 0.5 L_{1}^{2} m_{1} \\dot{q}_{1}^{2} + 0.5 m_{2} \\left(L_{1}^{2} \\dot{q}_{1}^{2} + 2 L_{1} L_{2} \\left(\\dot{q}_{1} + \\dot{q}_{2}\\right) \\cos{\\left(q_{2} \\right)} \\dot{q}_{1} + L_{2}^{2} \\left(\\dot{q}_{1} + \\dot{q}_{2}\\right)^{2}\\right)$"
      ],
      "text/plain": [
       "      2      2          ⎛  2   2                                    2         \n",
       "0.5⋅L₁ ⋅m₁⋅q₁̇  + 0.5⋅m₂⋅⎝L₁ ⋅q₁̇  + 2⋅L₁⋅L₂⋅(q₁̇ + q₂̇)⋅cos(q₂)⋅q₁̇ + L₂ ⋅(q₁\n",
       "\n",
       " 2⎞\n",
       "̇ + q₂̇) ⎠"
      ]
     },
     "execution_count": 28,
     "metadata": {},
     "output_type": "execute_result"
    }
   ],
   "source": [
    "T = (1/2)*m1*dot(v1,v1) + (1/2)*m2*dot(v2,v2)\n",
    "T"
   ]
  },
  {
   "cell_type": "code",
   "execution_count": 29,
   "id": "97bdb99c",
   "metadata": {},
   "outputs": [],
   "source": [
    "L=T-V\n",
    "LM = LagrangesMethod(L, [q1, q2])"
   ]
  },
  {
   "cell_type": "code",
   "execution_count": 30,
   "id": "8d06b4ce",
   "metadata": {},
   "outputs": [],
   "source": [
    "eqns = LM.form_lagranges_equations()"
   ]
  },
  {
   "cell_type": "code",
   "execution_count": 32,
   "id": "eb887afa",
   "metadata": {},
   "outputs": [
    {
     "data": {
      "text/latex": [
       "$\\displaystyle \\left[\\begin{matrix}1.0 L_{1}^{2} m_{1} + 1.0 m_{2} \\left(L_{1}^{2} + 2 L_{1} L_{2} \\cos{\\left(q_{2} \\right)} + L_{2}^{2}\\right) & 1.0 L_{2} m_{2} \\left(L_{1} \\cos{\\left(q_{2} \\right)} + L_{2}\\right)\\\\1.0 L_{2} m_{2} \\left(L_{1} \\cos{\\left(q_{2} \\right)} + L_{2}\\right) & 1.0 L_{2}^{2} m_{2}\\end{matrix}\\right]$"
      ],
      "text/plain": [
       "⎡      2             ⎛  2                       2⎞                            \n",
       "⎢1.0⋅L₁ ⋅m₁ + 1.0⋅m₂⋅⎝L₁  + 2⋅L₁⋅L₂⋅cos(q₂) + L₂ ⎠  1.0⋅L₂⋅m₂⋅(L₁⋅cos(q₂) + L₂\n",
       "⎢                                                                             \n",
       "⎢                                                                 2           \n",
       "⎣           1.0⋅L₂⋅m₂⋅(L₁⋅cos(q₂) + L₂)                     1.0⋅L₂ ⋅m₂        \n",
       "\n",
       " ⎤\n",
       ")⎥\n",
       " ⎥\n",
       " ⎥\n",
       " ⎦"
      ]
     },
     "execution_count": 32,
     "metadata": {},
     "output_type": "execute_result"
    }
   ],
   "source": [
    "trigsimp(LM.mass_matrix)"
   ]
  },
  {
   "cell_type": "code",
   "execution_count": 33,
   "id": "ab92ac6f",
   "metadata": {},
   "outputs": [
    {
     "data": {
      "text/latex": [
       "$\\displaystyle \\left[\\begin{matrix}1.0 L_{1} L_{2} m_{2} \\cdot \\left(2 \\dot{q}_{1} + \\dot{q}_{2}\\right) \\sin{\\left(q_{2} \\right)} \\dot{q}_{2} - L_{1} g m_{1} \\sin{\\left(q_{1} \\right)} - g m_{2} \\left(L_{1} \\sin{\\left(q_{1} \\right)} + L_{2} \\sin{\\left(q_{1} + q_{2} \\right)}\\right)\\\\- 1.0 L_{2} m_{2} \\left(L_{1} \\sin{\\left(q_{2} \\right)} \\dot{q}_{1}^{2} + g \\sin{\\left(q_{1} + q_{2} \\right)}\\right)\\end{matrix}\\right]$"
      ],
      "text/plain": [
       "⎡1.0⋅L₁⋅L₂⋅m₂⋅(2⋅q₁̇ + q₂̇)⋅sin(q₂)⋅q₂̇ - L₁⋅g⋅m₁⋅sin(q₁) - g⋅m₂⋅(L₁⋅sin(q₁) +\n",
       "⎢                                                                             \n",
       "⎢                                  ⎛             2                 ⎞          \n",
       "⎣                       -1.0⋅L₂⋅m₂⋅⎝L₁⋅sin(q₂)⋅q₁̇  + g⋅sin(q₁ + q₂)⎠         \n",
       "\n",
       " L₂⋅sin(q₁ + q₂))⎤\n",
       "              ⎥\n",
       "              ⎥\n",
       "               ⎦"
      ]
     },
     "execution_count": 33,
     "metadata": {},
     "output_type": "execute_result"
    }
   ],
   "source": [
    "trigsimp(LM.forcing)"
   ]
  },
  {
   "cell_type": "code",
   "execution_count": null,
   "id": "66892937",
   "metadata": {},
   "outputs": [],
   "source": []
  }
 ],
 "metadata": {
  "kernelspec": {
   "display_name": "Python 3 (ipykernel)",
   "language": "python",
   "name": "python3"
  },
  "language_info": {
   "codemirror_mode": {
    "name": "ipython",
    "version": 3
   },
   "file_extension": ".py",
   "mimetype": "text/x-python",
   "name": "python",
   "nbconvert_exporter": "python",
   "pygments_lexer": "ipython3",
   "version": "3.9.13"
  }
 },
 "nbformat": 4,
 "nbformat_minor": 5
}
