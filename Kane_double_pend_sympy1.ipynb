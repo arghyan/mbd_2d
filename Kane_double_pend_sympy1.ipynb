{
 "cells": [
  {
   "cell_type": "code",
   "execution_count": 11,
   "id": "f074a967",
   "metadata": {},
   "outputs": [],
   "source": [
    "from sympy.physics.mechanics import *\n",
    "from sympy import trigsimp,symbols\n",
    "from sympy.physics.vector import init_vprinting\n",
    "from sympy import sin,cos\n",
    "init_vprinting()"
   ]
  },
  {
   "cell_type": "code",
   "execution_count": 12,
   "id": "50957b76",
   "metadata": {},
   "outputs": [],
   "source": [
    "q1, q2 = dynamicsymbols('q1 q2')\n",
    "q1d, q2d = dynamicsymbols('q1 q2', 1)\n",
    "u1,u2=dynamicsymbols('u1,u2')\n",
    "m1,m2,L1,L2,g = symbols('m1 m2 L1 L2,g')"
   ]
  },
  {
   "cell_type": "code",
   "execution_count": 13,
   "id": "245dd818",
   "metadata": {},
   "outputs": [],
   "source": [
    "N = ReferenceFrame('N')     #Inertial reference frame\n",
    "A = N.orientnew('A', 'Axis', [q1, N.z]) # Frame rotating with first pendulum\n",
    "B = N.orientnew('B', 'Axis', [q2, N.z]) # Frame rotating with second pendulum"
   ]
  },
  {
   "cell_type": "code",
   "execution_count": 14,
   "id": "a6637933",
   "metadata": {},
   "outputs": [],
   "source": [
    "A.set_ang_vel(N, u1 * N.z) \n",
    "B.set_ang_vel(N, u2 * N.z)"
   ]
  },
  {
   "cell_type": "code",
   "execution_count": 15,
   "id": "f7561a72",
   "metadata": {},
   "outputs": [],
   "source": [
    "O = Point('O') #Origin in Inertial Reference Frame\n",
    "P1 = O.locatenew('P', L1 * A.x)  #Point of contact of first & 2nd pendulum\n",
    "P2 = P1.locatenew('P2', L2 * B.x) #2nd pendulum"
   ]
  },
  {
   "cell_type": "code",
   "execution_count": 16,
   "id": "6da25574",
   "metadata": {},
   "outputs": [],
   "source": [
    "O.set_vel(N, 0)\n",
    "P1.v2pt_theory(O,N,A)\n",
    "P2.v2pt_theory(P2,N,B)\n",
    "v1=P1.vel(N)\n",
    "v2=P2.vel(N)"
   ]
  },
  {
   "cell_type": "code",
   "execution_count": 17,
   "id": "27fa84e0",
   "metadata": {},
   "outputs": [
    {
     "data": {
      "image/png": "[encoded data removed]",
      "text/latex": [
       "$\\displaystyle L_{1} u_{1}\\mathbf{\\hat{a}_y}$"
      ],
      "text/plain": [
       "L₁⋅u₁ a_y"
      ]
     },
     "execution_count": 17,
     "metadata": {},
     "output_type": "execute_result"
    }
   ],
   "source": [
    "v1"
   ]
  },
  {
   "cell_type": "code",
   "execution_count": 18,
   "id": "c1d66802",
   "metadata": {},
   "outputs": [
    {
     "data": {
      "image/png": "[encoded data removed]",
      "text/latex": [
       "$\\displaystyle L_{2} u_{2}\\mathbf{\\hat{b}_y} + L_{1} u_{1}\\mathbf{\\hat{a}_y}$"
      ],
      "text/plain": [
       "L₂⋅u₂ b_y + L₁⋅u₁ a_y"
      ]
     },
     "execution_count": 18,
     "metadata": {},
     "output_type": "execute_result"
    }
   ],
   "source": [
    "v2"
   ]
  },
  {
   "cell_type": "code",
   "execution_count": 19,
   "id": "38be893b",
   "metadata": {},
   "outputs": [],
   "source": [
    "Par1 = Particle('P1', P1, m1)\n",
    "Par2 = Particle('P2', P2, m2)"
   ]
  },
  {
   "cell_type": "code",
   "execution_count": 20,
   "id": "55ebb2c4",
   "metadata": {},
   "outputs": [],
   "source": [
    "coordinates=[q1,q2]\n",
    "speeds=[u1,u2]\n",
    "kde=[u1-q1d,u2-q2d]   \n",
    "kane = KanesMethod(N,coordinates,speeds,kde)"
   ]
  },
  {
   "cell_type": "code",
   "execution_count": 21,
   "id": "18c16e97",
   "metadata": {},
   "outputs": [],
   "source": [
    "W1=(P1,m1*g*N.x)\n",
    "W2=(P2,m2*g*N.x)\n",
    "\n",
    "loads=[W1,W2]\n",
    "bodies=[Par1,Par2]"
   ]
  },
  {
   "cell_type": "code",
   "execution_count": 22,
   "id": "0403a929",
   "metadata": {},
   "outputs": [],
   "source": [
    "fr,frstar = kane.kanes_equations(bodies,loads)"
   ]
  },
  {
   "cell_type": "code",
   "execution_count": 23,
   "id": "21b7aaa8",
   "metadata": {},
   "outputs": [
    {
     "data": {
      "text/latex": [
       "$\\displaystyle \\left[\\begin{matrix}L_{1}^{2} m_{1} + L_{1}^{2} m_{2} & L_{1} L_{2} m_{2} \\cos{\\left(q_{1} - q_{2} \\right)}\\\\L_{1} L_{2} m_{2} \\cos{\\left(q_{1} - q_{2} \\right)} & L_{2}^{2} m_{2}\\end{matrix}\\right]$"
      ],
      "text/plain": [
       "⎡     2        2                             ⎤\n",
       "⎢   L₁ ⋅m₁ + L₁ ⋅m₂     L₁⋅L₂⋅m₂⋅cos(q₁ - q₂)⎥\n",
       "⎢                                            ⎥\n",
       "⎢                                2           ⎥\n",
       "⎣L₁⋅L₂⋅m₂⋅cos(q₁ - q₂)         L₂ ⋅m₂        ⎦"
      ]
     },
     "execution_count": 23,
     "metadata": {},
     "output_type": "execute_result"
    }
   ],
   "source": [
    "mm= trigsimp(kane.mass_matrix)\n",
    "mm"
   ]
  },
  {
   "cell_type": "code",
   "execution_count": 24,
   "id": "5f7faf6c",
   "metadata": {},
   "outputs": [
    {
     "data": {
      "text/latex": [
       "$\\displaystyle \\left[\\begin{matrix}- L_{1} \\left(L_{2} m_{2} u_{2}^{2} \\sin{\\left(q_{1} - q_{2} \\right)} + g m_{1} \\sin{\\left(q_{1} \\right)} + g m_{2} \\sin{\\left(q_{1} \\right)}\\right)\\\\L_{2} m_{2} \\left(L_{1} u_{1}^{2} \\sin{\\left(q_{1} - q_{2} \\right)} - g \\sin{\\left(q_{2} \\right)}\\right)\\end{matrix}\\right]$"
      ],
      "text/plain": [
       "⎡    ⎛        2                                           ⎞⎤\n",
       "⎢-L₁⋅⎝L₂⋅m₂⋅u₂ ⋅sin(q₁ - q₂) + g⋅m₁⋅sin(q₁) + g⋅m₂⋅sin(q₁)⎠⎥\n",
       "⎢                                                          ⎥\n",
       "⎢               ⎛     2                         ⎞          ⎥\n",
       "⎣         L₂⋅m₂⋅⎝L₁⋅u₁ ⋅sin(q₁ - q₂) - g⋅sin(q₂)⎠          ⎦"
      ]
     },
     "execution_count": 24,
     "metadata": {},
     "output_type": "execute_result"
    }
   ],
   "source": [
    "fm= trigsimp(kane.forcing)\n",
    "fm"
   ]
  },
  {
   "cell_type": "code",
   "execution_count": null,
   "id": "37173963",
   "metadata": {},
   "outputs": [],
   "source": []
  }
 ],
 "metadata": {
  "kernelspec": {
   "display_name": "Python 3 (ipykernel)",
   "language": "python",
   "name": "python3"
  },
  "language_info": {
   "codemirror_mode": {
    "name": "ipython",
    "version": 3
   },
   "file_extension": ".py",
   "mimetype": "text/x-python",
   "name": "python",
   "nbconvert_exporter": "python",
   "pygments_lexer": "ipython3",
   "version": "3.9.13"
  }
 },
 "nbformat": 4,
 "nbformat_minor": 5
}
